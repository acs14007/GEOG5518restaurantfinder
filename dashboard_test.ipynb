{
 "cells": [
  {
   "cell_type": "code",
   "execution_count": 5,
   "metadata": {
    "collapsed": true
   },
   "outputs": [],
   "source": [
    "import numpy as np\n",
    "import pandas as pd\n",
    "import geopandas as gpd\n",
    "\n",
    "from dash import Dash, dcc, html, Input, Output\n",
    "import dash_bootstrap_components as dbc\n",
    "import plotly.express as px"
   ]
  },
  {
   "cell_type": "code",
   "execution_count": 6,
   "outputs": [],
   "source": [
    "food_data_path = r'https://raw.githubusercontent.com/acs14007/GEOG5518restaurantfinder/main/Food_full.csv'"
   ],
   "metadata": {
    "collapsed": false
   }
  },
  {
   "cell_type": "code",
   "execution_count": 96,
   "outputs": [],
   "source": [
    "food_data = pd.read_csv(food_data_path)\n",
    "food_data = gpd.GeoDataFrame(food_data, geometry=gpd.points_from_xy(food_data.longitudes, food_data.latitudes))\n",
    "\n",
    "\n",
    "food_data['price_labels'] = ''\n",
    "price_labels = food_data.price_labels.copy()\n",
    "price_labels[food_data.price == '$'] = 'Under $10'\n",
    "price_labels[food_data.price == '$$'] = '$11-30'\n",
    "price_labels[food_data.price == '$$$'] = 'Over $31'\n",
    "price_labels[food_data.price.isna()] = 'Other'\n",
    "food_data['price_labels'] = price_labels"
   ],
   "metadata": {
    "collapsed": false
   }
  },
  {
   "cell_type": "code",
   "execution_count": 83,
   "outputs": [],
   "source": [
    "token = open('.mapbox_token').read()"
   ],
   "metadata": {
    "collapsed": false
   }
  },
  {
   "cell_type": "code",
   "execution_count": 97,
   "outputs": [
    {
     "data": {
      "text/plain": "     index                             name  rating            category price  \\\n0        1               1000 Degrees Pizza     3.5               Pizza   NaN   \n1        2          451 Restaurant & Lounge     3.5      Latin American    $$   \n2        3               5 And Dime Canteen     4.5  Breakfast & Brunch     $   \n3        4                           50 Elm     4.0       Cocktail Bars    $$   \n4        5                   99 Restaurants     3.0                Pubs    $$   \n..     ...                              ...     ...                 ...   ...   \n194    196           Harry's Bishops Corner     4.5               Pizza    $$   \n195    197                    Harry's Pizza     4.0               Pizza    $$   \n196    198  Hartford # 1 Chinese Restaurant     3.5             Chinese     $   \n197    199                  Hartford Baking     4.0               Cafes     $   \n198    200               Hartford Baking Co     4.0        Coffee & Tea    $$   \n\n                address           city  zipcode country  \\\n0          2941 Main St    Glastonbury     6033      US   \n1      341 Franklin Ave       Hartford     6114      US   \n2          1100 Main St      Newington     6111      US   \n3             50 Elm St       Hartford     6106      US   \n4          3025 Main St    Glastonbury     6033      US   \n..                  ...            ...      ...     ...   \n194       732 N Main St  West Hartford     6117      US   \n195        39 S Main St  West Hartford     6107      US   \n196        3155 Main St       Hartford     6120      US   \n197  965 Farmington Ave  West Hartford     6107      US   \n198    625 New Park Ave  West Hartford     6110      US   \n\n                                          full_address  \\\n0    1000 Degrees Pizza, 2941 Main St, Glastonbury,...   \n1    451 Restaurant & Lounge, 341 Franklin Ave, Har...   \n2    5 And Dime Canteen, 1100 Main St, Newington, C...   \n3              50 Elm, 50 Elm St, Hartford, CT 06106,    \n4    99 Restaurants, 3025 Main St, Glastonbury, CT ...   \n..                                                 ...   \n194  Harry's Bishops Corner, 732 N Main St, West Ha...   \n195  Harry's Pizza, 39 S Main St, West Hartford, CT...   \n196  Hartford # 1 Chinese Restaurant, 3155 Main St,...   \n197  Hartford Baking, 965 Farmington Ave, West Hart...   \n198  Hartford Baking Co, 625 New Park Ave, West Har...   \n\n                                             image_url           phone  \\\n0    https://s3-media2.fl.yelpcdn.com/bphoto/WJo0np...  (860) 500-1000   \n1    https://s3-media3.fl.yelpcdn.com/bphoto/hUCIrB...  (860) 206-1556   \n2    https://s3-media3.fl.yelpcdn.com/bphoto/cd1vI6...  (860) 665-7848   \n3    https://s3-media2.fl.yelpcdn.com/bphoto/jLEA1o...  (860) 206-3322   \n4    https://s3-media1.fl.yelpcdn.com/bphoto/0O7tsB...  (860) 652-9699   \n..                                                 ...             ...   \n194  https://s3-media1.fl.yelpcdn.com/bphoto/gCnIyh...  (860) 236-0400   \n195  https://s3-media1.fl.yelpcdn.com/bphoto/akAhN1...  (860) 231-7166   \n196  https://s3-media3.fl.yelpcdn.com/bphoto/LGNBFm...  (860) 548-0110   \n197  https://s3-media4.fl.yelpcdn.com/bphoto/wcllX8...  (860) 570-1579   \n198  https://s3-media3.fl.yelpcdn.com/bphoto/01GVRW...  (860) 570-1579   \n\n     latitudes  longitudes                    geometry price_labels  \n0    41.723593  -72.615392  POINT (-72.61539 41.72359)        Other  \n1    41.740665  -72.676309  POINT (-72.67631 41.74067)       $11-30  \n2    41.696770  -72.722822  POINT (-72.72282 41.69677)    Under $10  \n3    41.762305  -72.675474  POINT (-72.67547 41.76230)       $11-30  \n4    41.726554  -72.617603  POINT (-72.61760 41.72655)       $11-30  \n..         ...         ...                         ...          ...  \n194  41.786503  -72.746429  POINT (-72.74643 41.78650)       $11-30  \n195  41.759100  -72.743011  POINT (-72.74301 41.75910)       $11-30  \n196  41.794689  -72.664787  POINT (-72.66479 41.79469)    Under $10  \n197  41.756262  -72.760918  POINT (-72.76092 41.75626)    Under $10  \n198  41.732955  -72.724359  POINT (-72.72436 41.73296)       $11-30  \n\n[199 rows x 16 columns]",
      "text/html": "<div>\n<style scoped>\n    .dataframe tbody tr th:only-of-type {\n        vertical-align: middle;\n    }\n\n    .dataframe tbody tr th {\n        vertical-align: top;\n    }\n\n    .dataframe thead th {\n        text-align: right;\n    }\n</style>\n<table border=\"1\" class=\"dataframe\">\n  <thead>\n    <tr style=\"text-align: right;\">\n      <th></th>\n      <th>index</th>\n      <th>name</th>\n      <th>rating</th>\n      <th>category</th>\n      <th>price</th>\n      <th>address</th>\n      <th>city</th>\n      <th>zipcode</th>\n      <th>country</th>\n      <th>full_address</th>\n      <th>image_url</th>\n      <th>phone</th>\n      <th>latitudes</th>\n      <th>longitudes</th>\n      <th>geometry</th>\n      <th>price_labels</th>\n    </tr>\n  </thead>\n  <tbody>\n    <tr>\n      <th>0</th>\n      <td>1</td>\n      <td>1000 Degrees Pizza</td>\n      <td>3.5</td>\n      <td>Pizza</td>\n      <td>NaN</td>\n      <td>2941 Main St</td>\n      <td>Glastonbury</td>\n      <td>6033</td>\n      <td>US</td>\n      <td>1000 Degrees Pizza, 2941 Main St, Glastonbury,...</td>\n      <td>https://s3-media2.fl.yelpcdn.com/bphoto/WJo0np...</td>\n      <td>(860) 500-1000</td>\n      <td>41.723593</td>\n      <td>-72.615392</td>\n      <td>POINT (-72.61539 41.72359)</td>\n      <td>Other</td>\n    </tr>\n    <tr>\n      <th>1</th>\n      <td>2</td>\n      <td>451 Restaurant &amp; Lounge</td>\n      <td>3.5</td>\n      <td>Latin American</td>\n      <td>$$</td>\n      <td>341 Franklin Ave</td>\n      <td>Hartford</td>\n      <td>6114</td>\n      <td>US</td>\n      <td>451 Restaurant &amp; Lounge, 341 Franklin Ave, Har...</td>\n      <td>https://s3-media3.fl.yelpcdn.com/bphoto/hUCIrB...</td>\n      <td>(860) 206-1556</td>\n      <td>41.740665</td>\n      <td>-72.676309</td>\n      <td>POINT (-72.67631 41.74067)</td>\n      <td>$11-30</td>\n    </tr>\n    <tr>\n      <th>2</th>\n      <td>3</td>\n      <td>5 And Dime Canteen</td>\n      <td>4.5</td>\n      <td>Breakfast &amp; Brunch</td>\n      <td>$</td>\n      <td>1100 Main St</td>\n      <td>Newington</td>\n      <td>6111</td>\n      <td>US</td>\n      <td>5 And Dime Canteen, 1100 Main St, Newington, C...</td>\n      <td>https://s3-media3.fl.yelpcdn.com/bphoto/cd1vI6...</td>\n      <td>(860) 665-7848</td>\n      <td>41.696770</td>\n      <td>-72.722822</td>\n      <td>POINT (-72.72282 41.69677)</td>\n      <td>Under $10</td>\n    </tr>\n    <tr>\n      <th>3</th>\n      <td>4</td>\n      <td>50 Elm</td>\n      <td>4.0</td>\n      <td>Cocktail Bars</td>\n      <td>$$</td>\n      <td>50 Elm St</td>\n      <td>Hartford</td>\n      <td>6106</td>\n      <td>US</td>\n      <td>50 Elm, 50 Elm St, Hartford, CT 06106,</td>\n      <td>https://s3-media2.fl.yelpcdn.com/bphoto/jLEA1o...</td>\n      <td>(860) 206-3322</td>\n      <td>41.762305</td>\n      <td>-72.675474</td>\n      <td>POINT (-72.67547 41.76230)</td>\n      <td>$11-30</td>\n    </tr>\n    <tr>\n      <th>4</th>\n      <td>5</td>\n      <td>99 Restaurants</td>\n      <td>3.0</td>\n      <td>Pubs</td>\n      <td>$$</td>\n      <td>3025 Main St</td>\n      <td>Glastonbury</td>\n      <td>6033</td>\n      <td>US</td>\n      <td>99 Restaurants, 3025 Main St, Glastonbury, CT ...</td>\n      <td>https://s3-media1.fl.yelpcdn.com/bphoto/0O7tsB...</td>\n      <td>(860) 652-9699</td>\n      <td>41.726554</td>\n      <td>-72.617603</td>\n      <td>POINT (-72.61760 41.72655)</td>\n      <td>$11-30</td>\n    </tr>\n    <tr>\n      <th>...</th>\n      <td>...</td>\n      <td>...</td>\n      <td>...</td>\n      <td>...</td>\n      <td>...</td>\n      <td>...</td>\n      <td>...</td>\n      <td>...</td>\n      <td>...</td>\n      <td>...</td>\n      <td>...</td>\n      <td>...</td>\n      <td>...</td>\n      <td>...</td>\n      <td>...</td>\n      <td>...</td>\n    </tr>\n    <tr>\n      <th>194</th>\n      <td>196</td>\n      <td>Harry's Bishops Corner</td>\n      <td>4.5</td>\n      <td>Pizza</td>\n      <td>$$</td>\n      <td>732 N Main St</td>\n      <td>West Hartford</td>\n      <td>6117</td>\n      <td>US</td>\n      <td>Harry's Bishops Corner, 732 N Main St, West Ha...</td>\n      <td>https://s3-media1.fl.yelpcdn.com/bphoto/gCnIyh...</td>\n      <td>(860) 236-0400</td>\n      <td>41.786503</td>\n      <td>-72.746429</td>\n      <td>POINT (-72.74643 41.78650)</td>\n      <td>$11-30</td>\n    </tr>\n    <tr>\n      <th>195</th>\n      <td>197</td>\n      <td>Harry's Pizza</td>\n      <td>4.0</td>\n      <td>Pizza</td>\n      <td>$$</td>\n      <td>39 S Main St</td>\n      <td>West Hartford</td>\n      <td>6107</td>\n      <td>US</td>\n      <td>Harry's Pizza, 39 S Main St, West Hartford, CT...</td>\n      <td>https://s3-media1.fl.yelpcdn.com/bphoto/akAhN1...</td>\n      <td>(860) 231-7166</td>\n      <td>41.759100</td>\n      <td>-72.743011</td>\n      <td>POINT (-72.74301 41.75910)</td>\n      <td>$11-30</td>\n    </tr>\n    <tr>\n      <th>196</th>\n      <td>198</td>\n      <td>Hartford # 1 Chinese Restaurant</td>\n      <td>3.5</td>\n      <td>Chinese</td>\n      <td>$</td>\n      <td>3155 Main St</td>\n      <td>Hartford</td>\n      <td>6120</td>\n      <td>US</td>\n      <td>Hartford # 1 Chinese Restaurant, 3155 Main St,...</td>\n      <td>https://s3-media3.fl.yelpcdn.com/bphoto/LGNBFm...</td>\n      <td>(860) 548-0110</td>\n      <td>41.794689</td>\n      <td>-72.664787</td>\n      <td>POINT (-72.66479 41.79469)</td>\n      <td>Under $10</td>\n    </tr>\n    <tr>\n      <th>197</th>\n      <td>199</td>\n      <td>Hartford Baking</td>\n      <td>4.0</td>\n      <td>Cafes</td>\n      <td>$</td>\n      <td>965 Farmington Ave</td>\n      <td>West Hartford</td>\n      <td>6107</td>\n      <td>US</td>\n      <td>Hartford Baking, 965 Farmington Ave, West Hart...</td>\n      <td>https://s3-media4.fl.yelpcdn.com/bphoto/wcllX8...</td>\n      <td>(860) 570-1579</td>\n      <td>41.756262</td>\n      <td>-72.760918</td>\n      <td>POINT (-72.76092 41.75626)</td>\n      <td>Under $10</td>\n    </tr>\n    <tr>\n      <th>198</th>\n      <td>200</td>\n      <td>Hartford Baking Co</td>\n      <td>4.0</td>\n      <td>Coffee &amp; Tea</td>\n      <td>$$</td>\n      <td>625 New Park Ave</td>\n      <td>West Hartford</td>\n      <td>6110</td>\n      <td>US</td>\n      <td>Hartford Baking Co, 625 New Park Ave, West Har...</td>\n      <td>https://s3-media3.fl.yelpcdn.com/bphoto/01GVRW...</td>\n      <td>(860) 570-1579</td>\n      <td>41.732955</td>\n      <td>-72.724359</td>\n      <td>POINT (-72.72436 41.73296)</td>\n      <td>$11-30</td>\n    </tr>\n  </tbody>\n</table>\n<p>199 rows × 16 columns</p>\n</div>"
     },
     "execution_count": 97,
     "metadata": {},
     "output_type": "execute_result"
    }
   ],
   "source": [
    "food_data.full_address"
   ],
   "metadata": {
    "collapsed": false
   }
  },
  {
   "cell_type": "code",
   "execution_count": 107,
   "outputs": [
    {
     "data": {
      "application/vnd.plotly.v1+json": {
       "data": [
        {
         "customdata": [
          [
           "https://s3-media3.fl.yelpcdn.com/bphoto/cd1vI6R88dEWSL1EO0UYNw/o.jpg"
          ],
          [
           "https://s3-media3.fl.yelpcdn.com/bphoto/62Dc9SQlYMKmY6rsJBoLvQ/o.jpg"
          ],
          [
           "https://s3-media3.fl.yelpcdn.com/bphoto/4_IRevI2Q34KxSlZ-z9ThA/o.jpg"
          ],
          [
           "https://s3-media1.fl.yelpcdn.com/bphoto/ii4z7k4pA8YsXps5XN1QwQ/o.jpg"
          ],
          [
           "https://s3-media1.fl.yelpcdn.com/bphoto/ZlqSjJixlEH9cAdGbm8xhg/o.jpg"
          ],
          [
           "https://s3-media2.fl.yelpcdn.com/bphoto/hHlRBNOloOR5m-_KmEPkXQ/o.jpg"
          ],
          [
           "https://s3-media1.fl.yelpcdn.com/bphoto/T4QPlYJBkKeR7bREtlMHCg/o.jpg"
          ],
          [
           "https://s3-media4.fl.yelpcdn.com/bphoto/L7Ng3WxvdFzig8ZHi2Yg9w/o.jpg"
          ],
          [
           "https://s3-media2.fl.yelpcdn.com/bphoto/7tZRPUHEc4a_lCzhgsTHKw/o.jpg"
          ],
          [
           "https://s3-media2.fl.yelpcdn.com/bphoto/ppY1fOeB--nUrVznbdI6qA/o.jpg"
          ],
          [
           "https://s3-media1.fl.yelpcdn.com/bphoto/Aio2YMFxPG-mry8cCjv8oA/o.jpg"
          ],
          [
           "https://s3-media4.fl.yelpcdn.com/bphoto/07OzB4mXRS3Q41-ei_5ZJQ/o.jpg"
          ],
          [
           "https://s3-media3.fl.yelpcdn.com/bphoto/SjZpy8pStO7m3Z__fuSDHg/o.jpg"
          ],
          [
           "https://s3-media3.fl.yelpcdn.com/bphoto/_F_SVoHlS-GTEZnX8ZCQNw/o.jpg"
          ],
          [
           "https://s3-media4.fl.yelpcdn.com/bphoto/6AcdmlWjp8bMFQdK5IaKAw/o.jpg"
          ],
          [
           "https://s3-media4.fl.yelpcdn.com/bphoto/zngwpZwC_xXQ9qQlaphMjg/o.jpg"
          ],
          [
           "https://s3-media1.fl.yelpcdn.com/bphoto/z2xsOp4WZpGZQQwCIqFh5g/o.jpg"
          ],
          [
           "https://s3-media3.fl.yelpcdn.com/bphoto/XdlGTcPM8plIqJzDO0YvPg/o.jpg"
          ],
          [
           "https://s3-media4.fl.yelpcdn.com/bphoto/TuTHarxZ7fD9s9ebj0svcA/o.jpg"
          ],
          [
           "https://s3-media1.fl.yelpcdn.com/bphoto/cAeEbBqq4XDc9WC5RCUzWw/o.jpg"
          ],
          [
           "https://s3-media4.fl.yelpcdn.com/bphoto/6EoKslQlOAAwpVnt_9FoDg/o.jpg"
          ],
          [
           "https://s3-media4.fl.yelpcdn.com/bphoto/YJ7muf1Gz3FRSWAYFzDJQQ/o.jpg"
          ],
          [
           "https://s3-media3.fl.yelpcdn.com/bphoto/AFYk8EC2w1eTS3hwRQ8lNg/o.jpg"
          ],
          [
           "https://s3-media3.fl.yelpcdn.com/bphoto/WwTT6YORmva3ePVBOMFAHQ/o.jpg"
          ],
          [
           "https://s3-media4.fl.yelpcdn.com/bphoto/hcuMrcnx4hx9i47bwAVPQw/o.jpg"
          ],
          [
           "https://s3-media1.fl.yelpcdn.com/bphoto/7kFHXBnALjV9AXAezzApNw/o.jpg"
          ],
          [
           "https://s3-media3.fl.yelpcdn.com/bphoto/8O83eVn3B5J1ObcjhN6jMQ/o.jpg"
          ],
          [
           "https://s3-media1.fl.yelpcdn.com/bphoto/hH16C2gLA4H-eek8d5AmXw/o.jpg"
          ],
          [
           "https://s3-media1.fl.yelpcdn.com/bphoto/Xhoyv3IpXDt5rdUjkvdiFA/o.jpg"
          ],
          [
           "https://s3-media1.fl.yelpcdn.com/bphoto/alvVdocObANtgnMNi7tTwQ/o.jpg"
          ],
          [
           "https://s3-media1.fl.yelpcdn.com/bphoto/-Lrl1sPB_b_-bQPeB7JFow/o.jpg"
          ],
          [
           "https://s3-media2.fl.yelpcdn.com/bphoto/39oo86tnEGzlNEWpidfXQw/o.jpg"
          ],
          [
           "https://s3-media1.fl.yelpcdn.com/bphoto/DfVWpU0H2L_MqAUvdUSvDw/o.jpg"
          ],
          [
           "https://s3-media2.fl.yelpcdn.com/bphoto/w9wvFuI74p9bJBMTCVYROA/o.jpg"
          ],
          [
           "https://s3-media3.fl.yelpcdn.com/bphoto/n9KSVZl4SOrvlLsDgt1TtQ/o.jpg"
          ],
          [
           "https://s3-media1.fl.yelpcdn.com/bphoto/Bskc3g-4J2hCt7KnPsQA1g/o.jpg"
          ],
          [
           "https://s3-media3.fl.yelpcdn.com/bphoto/laFJ0Zgxu_00tNPw6Kbjfg/o.jpg"
          ],
          [
           "https://s3-media3.fl.yelpcdn.com/bphoto/JfRSuU-sE63f_Ak1U5Dguw/o.jpg"
          ],
          [
           "https://s3-media2.fl.yelpcdn.com/bphoto/remXtJP1-lcHGpe8R8WlgA/o.jpg"
          ],
          [
           "https://s3-media4.fl.yelpcdn.com/bphoto/e67UZFrQQ6wuVa_zWeqaZQ/o.jpg"
          ],
          [
           "https://s3-media3.fl.yelpcdn.com/bphoto/Xy4I1YbmxJZiVX7nrFHRoQ/o.jpg"
          ],
          [
           "https://s3-media3.fl.yelpcdn.com/bphoto/cSAnNR6PMMYwgfKO3XeW1w/o.jpg"
          ],
          [
           "https://s3-media2.fl.yelpcdn.com/bphoto/HE-wh2rfJ73QpxmKGfINtQ/o.jpg"
          ],
          [
           "https://s3-media1.fl.yelpcdn.com/bphoto/1HzZFNS9sV1L6dI74ZM-EA/o.jpg"
          ],
          [
           "https://s3-media3.fl.yelpcdn.com/bphoto/ju6sZkosi795uJ6BnzB7lQ/o.jpg"
          ],
          [
           "https://s3-media3.fl.yelpcdn.com/bphoto/8QhC5y0z0wlRHL3l7Ep3wg/o.jpg"
          ],
          [
           "https://s3-media3.fl.yelpcdn.com/bphoto/gJ2eKCQFnq-sbXDdElWMyA/o.jpg"
          ],
          [
           "https://s3-media2.fl.yelpcdn.com/bphoto/GYceTwjqylycwhCpi27RQw/o.jpg"
          ],
          [
           "https://s3-media2.fl.yelpcdn.com/bphoto/d_bkQ-xvQaBU0RQLBw1EPQ/o.jpg"
          ],
          [
           "https://s3-media2.fl.yelpcdn.com/bphoto/PD22HVOocgiCYY9N39EQJw/o.jpg"
          ],
          [
           "https://s3-media1.fl.yelpcdn.com/bphoto/hTiwAyE9X4N8Ue_WZSlk9w/o.jpg"
          ],
          [
           "https://s3-media3.fl.yelpcdn.com/bphoto/hadMLoQha11lf3egn123tw/o.jpg"
          ],
          [
           "https://s3-media3.fl.yelpcdn.com/bphoto/9GDIK9FP1IVn-EU3LJSYdA/o.jpg"
          ],
          [
           "https://s3-media4.fl.yelpcdn.com/bphoto/34SrKXEhBDYsiQ0FrtqkwQ/o.jpg"
          ],
          [
           "https://s3-media4.fl.yelpcdn.com/bphoto/3KWzhYmVUozE3_mmVnFozg/o.jpg"
          ],
          [
           "https://s3-media3.fl.yelpcdn.com/bphoto/yI0q8_reP9T1QgrJyoqR1g/o.jpg"
          ],
          [
           "https://s3-media3.fl.yelpcdn.com/bphoto/KaJPsvtWkk_yU8EvEL84_A/o.jpg"
          ],
          [
           "https://s3-media2.fl.yelpcdn.com/bphoto/YwRsXnnGv9-kfFtytmfd5g/o.jpg"
          ],
          [
           "https://s3-media2.fl.yelpcdn.com/bphoto/69hMZgnlNnkPW3A4nB10dw/o.jpg"
          ],
          [
           "https://s3-media3.fl.yelpcdn.com/bphoto/PXEuk6rHu8hYSKU6Kz0IFQ/o.jpg"
          ],
          [
           "https://s3-media1.fl.yelpcdn.com/bphoto/R0mb6K3slk-LPrH1CddrAA/o.jpg"
          ],
          [
           "https://s3-media3.fl.yelpcdn.com/bphoto/NGoohAz3Ln_E1sRGlgxDjw/o.jpg"
          ],
          [
           "https://s3-media4.fl.yelpcdn.com/bphoto/XwfFojbUi9wYfiWDTIA0ng/o.jpg"
          ],
          [
           "https://s3-media1.fl.yelpcdn.com/bphoto/6ZyWyXjDTYvWZ91Sy9Al8Q/o.jpg"
          ],
          [
           "https://s3-media2.fl.yelpcdn.com/bphoto/QFeDep_bE9TTDX9UcoEX9A/o.jpg"
          ],
          [
           "https://s3-media4.fl.yelpcdn.com/bphoto/NK1YPBF50Ijs3_jgW4JVEg/o.jpg"
          ],
          [
           "https://s3-media1.fl.yelpcdn.com/bphoto/7g4GW5Qzm9JkkKfhshv0tw/o.jpg"
          ],
          [
           "https://s3-media4.fl.yelpcdn.com/bphoto/Rh3ahKL2nUTRqFXxB4Vm1Q/o.jpg"
          ],
          [
           "https://s3-media4.fl.yelpcdn.com/bphoto/bJaJW75OfTbfsa5whQUJww/o.jpg"
          ],
          [
           "https://s3-media3.fl.yelpcdn.com/bphoto/2mUxRotgpzyGF6tob6Lfvw/o.jpg"
          ],
          [
           "https://s3-media3.fl.yelpcdn.com/bphoto/V-l6t0M6SI4MkxN3xjK9FQ/o.jpg"
          ],
          [
           "https://s3-media4.fl.yelpcdn.com/bphoto/8IinUB8ufl0EyqA_ZbuHNA/o.jpg"
          ],
          [
           "https://s3-media2.fl.yelpcdn.com/bphoto/eOYh6jSfEowKdPLw3jLtFw/o.jpg"
          ],
          [
           "https://s3-media3.fl.yelpcdn.com/bphoto/LGNBFmH_eDvA3QOUxoJY6Q/o.jpg"
          ],
          [
           "https://s3-media4.fl.yelpcdn.com/bphoto/wcllX8XhltrMcTAdGk3EHA/o.jpg"
          ]
         ],
         "hovertemplate": "<b>%{hovertext}</b><br><br>price_labels=Under $10<br>rating=%{marker.size}<br>latitudes=%{lat}<br>longitudes=%{lon}<br>image_url=%{customdata[0]}<extra></extra>",
         "hovertext": [
          "5 And Dime Canteen, 1100 Main St, Newington, CT 06111, ",
          "ABC Pizza House, 287 New Britain Ave, Hartford, CT 06106, ",
          "Ajamo, 30 State House Sq, Hartford, CT 06103, ",
          "Aladdin Halal, 100 Allyn St, Hartford, CT 06103, ",
          "Allegro Cafe, 347 Franklin Ave, Hartford, CT 06114, ",
          "Angelina's Pizza, 41 Prospect Ave, West Hartford, CT 06106, ",
          "Aqui Me Quedo Restaurant, 622 Park St, Hartford, CT 06106, ",
          "Aqui Me Quedo Restaurant, 150 Albany Ave, Hartford, CT 06120, ",
          "Aroma Bistro, 227 Main St, Wethersfield, CT 06109, ",
          "Ashley's Restaurant, 221 Main St, Hartford, CT 06106, ",
          "Augie & Ray's Drive In, 314 Main St, East Hartford, CT 06118, ",
          "Banh Meee, 399 Capitol Ave, Hartford, CT 06106, ",
          "Bella Gourmet Pizzeria, 125 Fenn Rd, Newington, CT 06111, ",
          "Between Rounds Bakery Sandwich Cafe, 19 John Fitch Blvd, South Windsor, CT 06074, ",
          "Boston Market, 417 Cottage Grove Rd, Bloomfield, CT 06002, ",
          "Boston Market, 2834 Main St, Glastonbury, CT 06033, ",
          "Broasterant, 630 Park St, Hartford, CT 06106, ",
          "Bruegger's Bagels, 1 S Main St, W Hartford, CT 06107, ",
          "Bruegger's Bagels, 2801 Main St, Glastonbury, CT 06033, ",
          "Buon Appetito Food Truck, 500 Statehouse Square, Hartford, CT 06183, ",
          "Burger King, 914 New Britain Ave, Hartford, CT 06106, ",
          "Burger King, 872 Silas Deane Hwy, Wethersfield, CT 06109, ",
          "Burger King, 19 Granby Street, Bloomfield, CT 06002, ",
          "Burger King, 3025 Main Street, Glastonbury, CT 06033, ",
          "Burger King, 186 Prospect Ave, Hartford, CT 06106, ",
          "Burger King, 524 Farmington Ave, Hartford, CT 06105, ",
          "Burger King, 708 Silver Lane, East Hartford, CT 06118, ",
          "Burger King, 70 Airport Rd, Hartford, CT 06114, ",
          "Burger King, 102 Weston Street, Hartford, CT 06120, ",
          "Burger King, 811 Main Street, Hartford, CT 06103, ",
          "Cafe Sofia, 984 Farmington Ave, West Hartford, CT 06107, ",
          "Castillo's Pizzeria, 1257 Main St, East Hartford, CT 06108, ",
          "Charlie's Pizzeria, 386 Prospect St, East Hartford, CT 06108, ",
          "Chef's Dog House, 337 Willard Ave, Newington, CT 06111, ",
          "Chick-fil-A, 2941 Main St, Glastonbury, CT 06033, ",
          "Chick-fil-A, 509 New Park Ave, West Hartford, CT 06110, ",
          "China House, 498 Farmington Ave, Ste A, Hartford, CT 06105",
          "China House, 344 Franklin Ave, Hartford, CT 06114, ",
          "China Jade, 1954 Park St, Hartford, CT 06106, ",
          "China King, 259 Sisson Ave, Hartford, CT 06105, ",
          "China Kitchen, 162 Washington St, Hartford, CT 06106, ",
          "Chipotle Mexican Grill, 140 Glastonbury Blvd, Ste 4, Glastonbury, CT 06033",
          "Chipotle Mexican Grill, 1084 Silas Deane Hwy, Wethersfield, CT 06109, ",
          "Chipotle Mexican Grill, 966 Farmington Ave, West Hartford, CT 06107, ",
          "Chris\"s Pizza and Deli, 85 Airport Rd, Hartford, CT 06114, ",
          "Church & Main Delicatessen, 20 Church St, Hartford, CT 06103, ",
          "Cisco's American Breakfast & Mexican Cuisine, 254 Hartford Ave, Newington, CT 06111, ",
          "Comerio, 158 Park St, Hartford, CT 06106, ",
          "Corner Grinder, 200 Franklin Ave, Hartford, CT 06114, ",
          "Cornerstone, 529 Main St, Hartford, CT 06103, ",
          "Cosmos International, 770 Farmington Ave, West Hartford, CT 06119, ",
          "Denny's, 539 Flatbush Ave, Hartford, CT 06106, ",
          "Destiny Awaits Restaurant & Jerk Center, 3343 Main St, Hartford, CT 06120, ",
          "Domino's Pizza, 1143 New Britain Ave, Ste C, West Hartford, CT 06110",
          "Domino's Pizza, 312 Farmington Ave, Hartford, CT 06105, ",
          "Donde Julio Restaurant- Hartford, 83 Park St, Hartford, CT 06106, ",
          "El Mercado, 704 Park St, Hartford, CT 06106, ",
          "El Poeta De Los Sandwiches, 22 Pratt St, Hartford, CT 06106, ",
          "El Salvador, 514 Burnside Ave, East Hartford, CT 06108, ",
          "Far East Buffet, 188 Silas Deane Hwy, Wethersfield, CT 06109, ",
          "Fire & Spice Vegan Restaurant, 491 Capitol Ave, Hartford, CT 06106, ",
          "First and Last Bakery Cafe, 920 Maple Ave, Hartford, CT 06114, ",
          "Fortune Chinese Restaurant, 97 Prospect Ave, Hartford, CT 06106, ",
          "Freshii, 892 Main St, Hartford, CT 06103, ",
          "Fung Chinese Restaurant, 891 Maple Ave, Hartford, CT 06114, ",
          "Ginger Root Japanese & Chinese, 9 Main St, East Hartford, CT 06118, ",
          "Gino's Pizza & Ranch House, 407 Cottage Grove Rd, Bloomfield, CT 06002, ",
          "Ginza Express, 89 Asylum St, Hartford, CT 06103, ",
          "Gold Roc Diner, 61 Kane St, West Hartford, CT 06119, ",
          "Goldberg's Bagels, 1131 New Britain Ave, Ste A, West Hartford, CT 06110",
          "GoldBurgers, 1096 Main St, Newington, CT 06111, ",
          "Great TSO, 278 Park Rd, Ste B, West Hartford, CT 06119",
          "Great Wall, 685 Silas Deane Hwy, Wethersfield, CT 06109, ",
          "Hartford # 1 Chinese Restaurant, 3155 Main St, Hartford, CT 06120, ",
          "Hartford Baking, 965 Farmington Ave, West Hartford, CT 06107, "
         ],
         "lat": [
          41.6967699,
          41.742456,
          41.7666206,
          41.7685242,
          41.740465,
          41.7463416,
          41.7582241,
          41.77550129999999,
          41.7125213,
          41.7584394,
          41.7441688,
          41.7671378,
          41.701345,
          41.7998361,
          41.817605,
          41.7203097,
          41.7581633,
          41.7617053,
          41.719096,
          41.7662892,
          41.7317362,
          41.6997747,
          41.81650519999999,
          41.7265017,
          41.7516226,
          41.7667546,
          41.7643859,
          41.7383716,
          41.787993,
          41.7664105,
          41.7613235,
          41.7752011,
          41.7707777,
          41.7100256,
          41.723593,
          41.7396922,
          41.766827,
          41.7406777,
          41.756611,
          41.7661496,
          41.757606,
          41.72037400000001,
          41.6926378,
          41.7618894,
          41.7380076,
          41.7691285,
          41.7185406,
          41.757624,
          41.7457137,
          41.762576,
          41.7652778,
          41.7419514,
          41.7970589,
          41.7324489,
          41.7680399,
          41.757149,
          41.7582454,
          41.7676114,
          41.7784024,
          41.7218914,
          41.7633632,
          41.7340832,
          41.7481774,
          41.7672956,
          41.735259,
          41.7282567,
          41.8172526,
          41.7668657,
          41.7508333,
          41.732575,
          41.696817,
          41.756929,
          41.7059109,
          41.7946891,
          41.756262
         ],
         "legendgroup": "Under $10",
         "lon": [
          -72.72282249999999,
          -72.6916047,
          -72.67276199999999,
          -72.6782589,
          -72.6763471,
          -72.71533099999999,
          -72.68719779999999,
          -72.6793282,
          -72.6529597,
          -72.6756575,
          -72.6328039,
          -72.6779486,
          -72.755313,
          -72.61898359999999,
          -72.7162815,
          -72.61379459999999,
          -72.68739699999999,
          -72.74244949999999,
          -72.6142893,
          -72.6723583,
          -72.7146173,
          -72.6585697,
          -72.7097565,
          -72.6175964,
          -72.7146703,
          -72.70945069999999,
          -72.61360599999999,
          -72.6681062,
          -72.6603073,
          -72.6734662,
          -72.7446968,
          -72.6401853,
          -72.6497085,
          -72.7367992,
          -72.6153917,
          -72.7195528,
          -72.70818899999999,
          -72.6755465,
          -72.711269,
          -72.7076003,
          -72.681967,
          -72.6209659,
          -72.65534079999999,
          -72.7430722,
          -72.66720289999999,
          -72.6743379,
          -72.71704489999999,
          -72.67874239999999,
          -72.6764883,
          -72.67464249999999,
          -72.72555559999999,
          -72.7136593,
          -72.66328589999999,
          -72.7338406,
          -72.69943529999999,
          -72.677542,
          -72.68892579999999,
          -72.6736746,
          -72.61755910000001,
          -72.6665319,
          -72.6921249,
          -72.6867324,
          -72.715455,
          -72.6729242,
          -72.6870802,
          -72.61978959999999,
          -72.7161873,
          -72.6748784,
          -72.7177778,
          -72.7326667,
          -72.7228119,
          -72.7268723,
          -72.66189,
          -72.6647868,
          -72.7609184
         ],
         "marker": {
          "color": "yellow",
          "size": [
           4.5,
           2.5,
           4.5,
           3.5,
           4.5,
           4.5,
           3.0,
           4.0,
           4.5,
           3.5,
           4.0,
           4.5,
           3.5,
           3.5,
           3.5,
           3.0,
           4.5,
           3.0,
           3.0,
           3.0,
           1.0,
           2.5,
           1.5,
           2.5,
           1.5,
           2.0,
           2.0,
           1.5,
           3.0,
           1.0,
           3.5,
           3.0,
           4.0,
           4.0,
           4.0,
           4.0,
           2.5,
           3.0,
           2.5,
           3.0,
           3.0,
           3.0,
           3.5,
           3.5,
           2.5,
           3.5,
           4.0,
           3.5,
           4.0,
           4.0,
           4.0,
           1.5,
           4.5,
           2.5,
           1.5,
           4.5,
           4.0,
           3.0,
           3.5,
           3.5,
           4.5,
           4.0,
           2.5,
           3.5,
           4.5,
           3.0,
           2.0,
           3.5,
           2.5,
           4.0,
           4.5,
           3.5,
           4.0,
           3.5,
           4.0
          ],
          "sizemode": "area",
          "sizeref": 0.05
         },
         "mode": "markers",
         "name": "Under $10",
         "showlegend": true,
         "subplot": "mapbox",
         "type": "scattermapbox"
        },
        {
         "customdata": [
          [
           "https://s3-media3.fl.yelpcdn.com/bphoto/hUCIrBcAH61s-irRDzpTGw/o.jpg"
          ],
          [
           "https://s3-media2.fl.yelpcdn.com/bphoto/jLEA1ovuwaMTFjbWc4JrKA/o.jpg"
          ],
          [
           "https://s3-media1.fl.yelpcdn.com/bphoto/0O7tsBWEUudSMEJd0WUHgQ/o.jpg"
          ],
          [
           "https://s3-media3.fl.yelpcdn.com/bphoto/hBxlOg3DDj9_Xze8-RV2gw/o.jpg"
          ],
          [
           "https://s3-media3.fl.yelpcdn.com/bphoto/FiEbhIqFNrIVvgxLemskOw/o.jpg"
          ],
          [
           "https://s3-media2.fl.yelpcdn.com/bphoto/aD1sgjb9f8f6ImyT49gQ6g/o.jpg"
          ],
          [
           "https://s3-media4.fl.yelpcdn.com/bphoto/tzZOoFL5bhnikzP-xixDzg/o.jpg"
          ],
          [
           "https://s3-media3.fl.yelpcdn.com/bphoto/R-T2sPDusL93F2nG2RHC-Q/o.jpg"
          ],
          [
           "https://s3-media2.fl.yelpcdn.com/bphoto/6QdZt4_gIi_2wohLcrTbqg/o.jpg"
          ],
          [
           "https://s3-media2.fl.yelpcdn.com/bphoto/mixWfwrUbKN5NltU_3Kz3A/o.jpg"
          ],
          [
           "https://s3-media2.fl.yelpcdn.com/bphoto/Xzgd8xI09UhPPreE7aleNg/o.jpg"
          ],
          [
           "https://s3-media1.fl.yelpcdn.com/bphoto/8IvsXDwgMLnxQJPggPGodA/o.jpg"
          ],
          [
           "https://s3-media1.fl.yelpcdn.com/bphoto/-Vc-ZqAvou786W7qnMZbdw/o.jpg"
          ],
          [
           "https://s3-media3.fl.yelpcdn.com/bphoto/j3LBBGgJl_s4LjDmzQYL4A/o.jpg"
          ],
          [
           "https://s3-media4.fl.yelpcdn.com/bphoto/P8Eh5MaZprMNSo5H4Z47Sw/o.jpg"
          ],
          [
           "https://s3-media2.fl.yelpcdn.com/bphoto/S9VKMA8HaUaopbNFaOy04A/o.jpg"
          ],
          [
           "https://s3-media1.fl.yelpcdn.com/bphoto/_Tm-8p2BJktASF0nnPDokQ/o.jpg"
          ],
          [
           "https://s3-media2.fl.yelpcdn.com/bphoto/V1XgRLiy79K4qMiFCVR8Sw/o.jpg"
          ],
          [
           "https://s3-media1.fl.yelpcdn.com/bphoto/fhKkBCcg4Z5p4pwV9nCoiA/o.jpg"
          ],
          [
           "https://s3-media2.fl.yelpcdn.com/bphoto/UMxpIG2IW61bShBmDABihA/o.jpg"
          ],
          [
           "https://s3-media2.fl.yelpcdn.com/bphoto/e5LF7lqtMYYg9n-luXgv-A/o.jpg"
          ],
          [
           "https://s3-media4.fl.yelpcdn.com/bphoto/mWGJirG01KUybHmYtO1uiA/o.jpg"
          ],
          [
           "https://s3-media2.fl.yelpcdn.com/bphoto/KxY07VxKUFugReqElnd5Gg/o.jpg"
          ],
          [
           "https://s3-media1.fl.yelpcdn.com/bphoto/gm-1VK3aZrCl-z6pgdGhWw/o.jpg"
          ],
          [
           "https://s3-media4.fl.yelpcdn.com/bphoto/5ndqLkCI8GIiV2jXwQim6A/o.jpg"
          ],
          [
           "https://s3-media3.fl.yelpcdn.com/bphoto/7dnT7Y6HrGblrJqiTQFuSg/o.jpg"
          ],
          [
           "https://s3-media2.fl.yelpcdn.com/bphoto/LXkUo7yH-Bg9nCQylM30qQ/o.jpg"
          ],
          [
           "https://s3-media4.fl.yelpcdn.com/bphoto/isUWKj-yq8XvZanW6f5Kmg/o.jpg"
          ],
          [
           "https://s3-media1.fl.yelpcdn.com/bphoto/8CFNASUaJg_Mjfmkj-AV4w/o.jpg"
          ],
          [
           "https://s3-media3.fl.yelpcdn.com/bphoto/GlgJDeKntGt8UXhi9BzkAg/o.jpg"
          ],
          [
           "https://s3-media3.fl.yelpcdn.com/bphoto/k_CN0LNnE7MhjL7RP_MvVg/o.jpg"
          ],
          [
           "https://s3-media4.fl.yelpcdn.com/bphoto/BFZvhq6Ms51HwMiss2TzSg/o.jpg"
          ],
          [
           "https://s3-media1.fl.yelpcdn.com/bphoto/RhvbdxcphbKThT7_vfWCoQ/o.jpg"
          ],
          [
           "https://s3-media2.fl.yelpcdn.com/bphoto/Rv_Gp6eAawQGNrCeDc7Z3g/o.jpg"
          ],
          [
           "https://s3-media2.fl.yelpcdn.com/bphoto/3apQi9rJ5LG2ql6E45Evcw/o.jpg"
          ],
          [
           "https://s3-media2.fl.yelpcdn.com/bphoto/vfHn_4gFAfzuRCiBybs5rw/o.jpg"
          ],
          [
           "https://s3-media3.fl.yelpcdn.com/bphoto/utkl4SNy-uxfbsSEkGDBAg/o.jpg"
          ],
          [
           "https://s3-media2.fl.yelpcdn.com/bphoto/VVftuxd1ISOEJDUVzWFNiA/o.jpg"
          ],
          [
           "https://s3-media3.fl.yelpcdn.com/bphoto/wCpgvtf0h-7YGTrWDxlvrg/o.jpg"
          ],
          [
           "https://s3-media4.fl.yelpcdn.com/bphoto/-tMPb_lhFBKh9XnEST3Z6Q/o.jpg"
          ],
          [
           "https://s3-media3.fl.yelpcdn.com/bphoto/X2b4WFFSdV-rQFcC0thnOg/o.jpg"
          ],
          [
           "https://s3-media2.fl.yelpcdn.com/bphoto/zL3inqDC7ATSfPM70T95Ig/o.jpg"
          ],
          [
           "https://s3-media1.fl.yelpcdn.com/bphoto/Hf0ZQNXaCg6tdrZ_dENLvw/o.jpg"
          ],
          [
           "https://s3-media1.fl.yelpcdn.com/bphoto/qbavarX08-v6_-yqIqXgsg/o.jpg"
          ],
          [
           "https://s3-media4.fl.yelpcdn.com/bphoto/Dp6CbZ5aXhPYL8KZodMaeA/o.jpg"
          ],
          [
           "https://s3-media1.fl.yelpcdn.com/bphoto/80yyxdy-JMAolro7J2DwzQ/o.jpg"
          ],
          [
           "https://s3-media3.fl.yelpcdn.com/bphoto/HCCBEFj4nbRJ-ExVXcBvVg/o.jpg"
          ],
          [
           "https://s3-media3.fl.yelpcdn.com/bphoto/z5yI-RADNys89jGgNCIK-Q/o.jpg"
          ],
          [
           "https://s3-media3.fl.yelpcdn.com/bphoto/7h5mTEBJOZlnRKI2Y3Oa1g/o.jpg"
          ],
          [
           "https://s3-media3.fl.yelpcdn.com/bphoto/jdw7zQv8Zo8sQgVCw1tO_Q/o.jpg"
          ],
          [
           "https://s3-media1.fl.yelpcdn.com/bphoto/gOkmxgp-uWtb8d3CG66-qA/o.jpg"
          ],
          [
           "https://s3-media2.fl.yelpcdn.com/bphoto/29fngeNC5YeIy8CYepeJhw/o.jpg"
          ],
          [
           "https://s3-media2.fl.yelpcdn.com/bphoto/o8PicXH3-Jxi9VjpVQHEZw/o.jpg"
          ],
          [
           "https://s3-media1.fl.yelpcdn.com/bphoto/uT_Li60EybhQWH0v7EYGDQ/o.jpg"
          ],
          [
           "https://s3-media2.fl.yelpcdn.com/bphoto/L_XT1ZndmjeAbiI878xnrg/o.jpg"
          ],
          [
           "https://s3-media1.fl.yelpcdn.com/bphoto/U7Y3FXBxFHINdPnTD6cNDg/o.jpg"
          ],
          [
           "https://s3-media1.fl.yelpcdn.com/bphoto/Xe_1BP1SfWq5KLzd_uYg1A/o.jpg"
          ],
          [
           "https://s3-media3.fl.yelpcdn.com/bphoto/Tw0rigN6x_wFBfHxlZ4xjw/o.jpg"
          ],
          [
           "https://s3-media2.fl.yelpcdn.com/bphoto/q2_J9990snJv1hz4uVAb-A/o.jpg"
          ],
          [
           "https://s3-media1.fl.yelpcdn.com/bphoto/-ax9zEGt6mmgvFbwxAYD4Q/o.jpg"
          ],
          [
           "https://s3-media1.fl.yelpcdn.com/bphoto/lhn5P5bdt1Tft92SFaASWQ/o.jpg"
          ],
          [
           "https://s3-media2.fl.yelpcdn.com/bphoto/HfEp2fWGdTkQqaQhHpqRVg/o.jpg"
          ],
          [
           "https://s3-media2.fl.yelpcdn.com/bphoto/wvEE-rc4ZYz06iTtmkL2VA/o.jpg"
          ],
          [
           "https://s3-media4.fl.yelpcdn.com/bphoto/Iov8cPfyBls46roD9r3Rog/o.jpg"
          ],
          [
           "https://s3-media2.fl.yelpcdn.com/bphoto/eF2CtFdmYZ9TEYamWFQQMA/o.jpg"
          ],
          [
           "https://s3-media2.fl.yelpcdn.com/bphoto/AArjycnPUsmCj6mfx8uhkQ/o.jpg"
          ],
          [
           "https://s3-media1.fl.yelpcdn.com/bphoto/HhsAbmDWyxYxxoctlMKuhg/o.jpg"
          ],
          [
           "https://s3-media2.fl.yelpcdn.com/bphoto/ZNekyE93b1vOzXcba2x1uw/o.jpg"
          ],
          [
           "https://s3-media4.fl.yelpcdn.com/bphoto/MaQsGdVncTlUefZqG6gq2Q/o.jpg"
          ],
          [
           "https://s3-media3.fl.yelpcdn.com/bphoto/FwdN0v99SbdXnZNp7DF46A/o.jpg"
          ],
          [
           "https://s3-media1.fl.yelpcdn.com/bphoto/ul8kXLVaJ1m3l_BGqc2Nog/o.jpg"
          ],
          [
           "https://s3-media1.fl.yelpcdn.com/bphoto/LuHmzdPzgrU3HVcin9erug/o.jpg"
          ],
          [
           "https://s3-media2.fl.yelpcdn.com/bphoto/u0YiSMerPeqUOYxLOrllyg/o.jpg"
          ],
          [
           "https://s3-media2.fl.yelpcdn.com/bphoto/3VnVRac2r8CJRjjNND3yYw/o.jpg"
          ],
          [
           "https://s3-media2.fl.yelpcdn.com/bphoto/sQrloCG_r1Mbu9JlXGI7Qg/o.jpg"
          ],
          [
           "https://s3-media2.fl.yelpcdn.com/bphoto/gWzhBfTtR4y9OjEY090hDQ/o.jpg"
          ],
          [
           "https://s3-media2.fl.yelpcdn.com/bphoto/YyPIbOSum01GGyv0TJRVdg/o.jpg"
          ],
          [
           "https://s3-media3.fl.yelpcdn.com/bphoto/BsKWgHQkZrk-MU7oAUp2XA/o.jpg"
          ],
          [
           "https://s3-media2.fl.yelpcdn.com/bphoto/xsfCAQL0015rBBT99TL1WQ/o.jpg"
          ],
          [
           "https://s3-media1.fl.yelpcdn.com/bphoto/Up4B4uHfukeko7xzgPJ5DA/o.jpg"
          ],
          [
           "https://s3-media1.fl.yelpcdn.com/bphoto/Mz5VgzDuY7pt33PgccaM2w/o.jpg"
          ],
          [
           "https://s3-media1.fl.yelpcdn.com/bphoto/gCnIyhI0-Cyy47cMUN7l1Q/o.jpg"
          ],
          [
           "https://s3-media1.fl.yelpcdn.com/bphoto/akAhN130Yelma1WtSOI2sA/o.jpg"
          ],
          [
           "https://s3-media3.fl.yelpcdn.com/bphoto/01GVRWdZLCESmTt3WPh2JA/o.jpg"
          ]
         ],
         "hovertemplate": "<b>%{hovertext}</b><br><br>price_labels=$11-30<br>rating=%{marker.size}<br>latitudes=%{lat}<br>longitudes=%{lon}<br>image_url=%{customdata[0]}<extra></extra>",
         "hovertext": [
          "451 Restaurant & Lounge, 341 Franklin Ave, Hartford, CT 06114, ",
          "50 Elm, 50 Elm St, Hartford, CT 06106, ",
          "99 Restaurants, 3025 Main St, Glastonbury, CT 06033, ",
          "A-1 Pizza, 274 Farmington Ave, Hartford, CT 06105, ",
          "AC Petersen Farms, 240 Park Rd, West Hartford, CT 06119, ",
          "Agave Grill, 100 Allyn St, Hartford, CT 06103, ",
          "Andrea's Restaurante, 371 Franklin Ave, Hartford, CT 06114, ",
          "Angry Tofu Korean Cuisine, 1030 Silas Deane Hwy, Wethersfield, CT 06109, ",
          "Arch Street Tavern, 85 Arch St, Hartford, CT 06103, ",
          "Arena Patio Restaurant, 873 Wethersfield Ave, Hartford, CT 06114, ",
          "Artichoke Basille’s Pizza, 114 Asylum St, Hartford, CT 06103, ",
          "Arugula, 953 Farmington Ave, West Hartford, CT 06107, ",
          "Asia 2000 Chinese Restaurant, 520 Windsor Ave, Windsor, CT 06095, ",
          "Atrium Café and Bar, 100 Great Meadow Rd, Wethersfield, CT 06109, ",
          "Au Bon Pain, 80 Seymour St, Hartford Hospital, Hartford, CT 06106",
          "Au Bon Pain, 114 Woodland St, Hartford, CT 06105, ",
          "a'VERT Brasserie, 35 A Lasalle Rd, West Hartford, CT 06107, ",
          "B.GOOD, 140 Glastonbury Blvd, Glastonbury, CT 06033, ",
          "Banana Brazil, 341 New Park Ave, Hartford, CT 06106, ",
          "bartaco - West Hartford, 971 Farmington Ave, West Hartford, CT 06107, ",
          "Beachland Tavern, 1128 New Britain Ave, West Hartford, CT 06110, ",
          "Bear's Smokehouse Barbecue, 25 Front St, Hartford, CT 06103, ",
          "Bertucci's Italian Restaurant, 2882 Main St, Glastonbury, CT 06033, ",
          "Bijou Restaurant, 9 Heath St, Hartford, CT 06106, ",
          "Bin228 Panini & Wine Bar, 228 Pearl St, Hartford, CT 06103, ",
          "Black Bamboo Chinese Restaurant, 844 Farmington Ave, West Hartford, CT 06119, ",
          "Black-Eyed Sally's, 350 Asylum St, Hartford, CT 06103, ",
          "Blue Plate Kitchen, 345 N Main St, West Hartford, CT 06117, ",
          "Blue State Coffee, 777 Main St, Hartford, CT 06103, ",
          "Bombay Olive, 450 S Main St, West Hartford, CT 06110, ",
          "Brazil Grill, 1996 Park St, Hartford, CT 06106, ",
          "Brooklyn Ramen, 37 Raymond Rd, Maruichi Japanese Food & Deli, West Hartford, CT 06107",
          "Butterfly Restaurant, 831 Farmington Ave, West Hartford, CT 06119, ",
          "Campus Pizza, 1258 Broad St, Hartford, CT 06106, ",
          "Capitol View Deli, 628 Asylum Ave, Hartford, CT 06105, ",
          "Caral Lounge, 1429 Park St, Hartford, CT 06106, ",
          "Carbone's Kitchen, 6 Wintonbury Ave, Bloomfield, CT 06002, ",
          "Caribe Restaurant, 686 Park St, Hartford, CT 06106, ",
          "Carl's BBQ & Jerk, 285 Silver Ln, East Hartford, CT 06118, ",
          "Carmine's Bar, Grill & Stage, 389 Main St, East Hartford, CT 06118, ",
          "Casona Restaurant, 681 Wethersfield Ave, Hartford, CT 06114, ",
          "Cavros Pizzeria, 184 Main St, East Hartford, CT 06118, ",
          "Chang Jiang Chinese Restaurant, 112 Main St, East Hartford, CT 06118, ",
          "Chili's, 2855 Main St, Glastonbury, CT 06033, ",
          "City Pizza, 498 Farmington Ave, Hartford, CT 06105, ",
          "Concetta's Italian Restaurant, 22 Mountain Ave, Bloomfield, CT 06002, ",
          "Cookshop Plus, 60 LaSalle Rd, West Hartford, CT 06107, ",
          "Cora Cora, 162 Shield St, West Hartford, CT 06110, ",
          "Coyote Flaco Mexican Food, 635 New Britain Ave, Hartford, CT 06106, ",
          "Dhaba Wala Indian Kitchen, 49 Asylum St, Hartford, CT 06103, ",
          "Dino's Pizzeria, 439 New Park Ave, West Hartford, CT 06110, ",
          "Division West Bistro & Bar, 36 LaSalle Rd, West Hartford, CT 06107, ",
          "Dunns River Restaurant, 2996 Main St, Hartford, CT 06120, ",
          "Eastern, 69 John Fitch Blvd, South Windsor, CT 06074, ",
          "Edoichi Sushi & Hibachi Steak House, 580 Silas Deane Hwy, Wethersfield, CT 06109, ",
          "Effie's Place, 91 Park Rd, West Hartford, CT 06119, ",
          "El Nuevo Sarape Restaurant, 931 Broad St, Hartford, CT 06106, ",
          "El Pollo Guapo, 26 Front St, Hartford, CT 06103, ",
          "El Pollo Guapo, 1866 Berlin Turnpike, Wethersfield, CT 06109, ",
          "Elaine's, 1841 Berlin Tpke, Wethersfield, CT 06109, ",
          "Elizabeth's Bar & Restaurant in Bloomfield, 774 Park Ave, Bloomfield, CT 06002, ",
          "Elmwood Pizza & Grinders, 1154 New Britain Ave, West Hartford, CT 06110, ",
          "Empire Pizza House, 861 New Britain Ave, Hartford, CT 06106, ",
          "Fat Franks & Latin Cuisine, 481 Wethersfield Ave, Hartford, CT 06114, ",
          "Fernwood Restaurant, 1113 New Britain Ave, West Hartford, CT 06110, ",
          "First & Last Tavern, 939 Maple Ave, Hartford, CT 06114, ",
          "Five Guys, 2944 Main St, Glastonbury, CT 06033, ",
          "Five Guys, 316 N Main St, West Hartford, CT 06117, ",
          "Flora, 45 Raymond Rd, Fl 2nd, West Hartford, CT 06107",
          "Frank Pepe's Pizza of West Hartford, 1148 New Britian Ave, West Hartford, CT 06110, ",
          "Franklin Giant Sandwich Shop, 464 Franklin Ave, Hartford, CT 06114, ",
          "Frida, 1150 New Britain Ave, West Hartford, CT 06110, ",
          "Friendly's, 1045 Silas Deane Hwy, Wethersfield, CT 06109, ",
          "Front Street Bistro, 39 Front St, Hartford, CT 06103, ",
          "George's Pizza House, 2027 Park St, Hartford, CT 06106, ",
          "Gillette Ridge Restaurant, 1360 Hall Blvd, Bloomfield, CT 06002, ",
          "Ginza Japanese Cuisine, 14 Wintonbury Mall, Bloomfield, CT 06002, ",
          "Golden Krust Caribbean Restaurant, 1170 Albany Ave, Hartford, CT 06112, ",
          "Gourmet Wok, 2856 Main St, Glastonbury, CT 06033, ",
          "G's Steaks and Grinders, 2053 Park St, Hartford, CT 06106, ",
          "Han Restaurant, 310 Prospect Ave, Hartford, CT 06106, ",
          "Harry's Bishops Corner, 732 N Main St, West Hartford, CT 06117, ",
          "Harry's Pizza, 39 S Main St, West Hartford, CT 06107, ",
          "Hartford Baking Co, 625 New Park Ave, West Hartford, CT 06110, "
         ],
         "lat": [
          41.7406653,
          41.7623049,
          41.7265545,
          41.7679391,
          41.7576647,
          41.7684972,
          41.7397631,
          41.6942659,
          41.7617649,
          41.73201359999999,
          41.76721209999999,
          41.7615591,
          41.8200941,
          41.7139144,
          41.7543354,
          41.7745877,
          41.7603606,
          41.720303,
          41.7468756,
          41.7613278,
          41.7332284,
          41.7626991,
          41.7218843,
          41.7568085,
          41.7666355,
          41.7644057,
          41.7676819,
          41.7846583,
          41.7661999,
          41.73210599999999,
          41.756486,
          41.7611788,
          41.7640333,
          41.7521303,
          41.768559,
          41.7572222,
          41.8314507,
          41.7582916,
          41.7619557,
          41.7484486,
          41.7372736,
          41.736309,
          41.7325927,
          41.721303,
          41.7668818,
          41.8315772,
          41.75992129999999,
          41.72868709999999,
          41.73359,
          41.7665619,
          41.7436794,
          41.76032,
          41.7931612,
          41.8012975,
          41.7096141,
          41.7571011,
          41.7566962,
          41.762997,
          41.703052,
          41.7042062,
          41.8291776,
          41.732816,
          41.7317656,
          41.7426897,
          41.73220329999999,
          41.7338982,
          41.7241012,
          41.7840357,
          41.761114,
          41.73311200000001,
          41.7366484,
          41.7328702,
          41.6941439,
          41.7625339,
          41.755878,
          41.8117375,
          41.8310831,
          41.7823,
          41.7211861,
          41.7561043,
          41.7555336,
          41.7865028,
          41.7591,
          41.7329551
         ],
         "legendgroup": "$11-30",
         "lon": [
          -72.6763087,
          -72.67547449999999,
          -72.6176026,
          -72.6992226,
          -72.72550020000001,
          -72.678005,
          -72.6761989,
          -72.6562205,
          -72.67091500000001,
          -72.6701982,
          -72.6752133,
          -72.7427723,
          -72.654951,
          -72.6436315,
          -72.6799722,
          -72.69849190000001,
          -72.7447956,
          -72.62095,
          -72.7137383,
          -72.7434083,
          -72.73245510000001,
          -72.6713982,
          -72.6138514,
          -72.7109481,
          -72.6775287,
          -72.732221,
          -72.679495,
          -72.7484139,
          -72.6735387,
          -72.742885,
          -72.7119678,
          -72.73977570000001,
          -72.7310928,
          -72.6868946,
          -72.684545,
          -72.7025,
          -72.7359002,
          -72.6884324,
          -72.6320709,
          -72.6384696,
          -72.67153189999999,
          -72.6280469,
          -72.62392779999999,
          -72.61507,
          -72.7082028,
          -72.7416661,
          -72.7442051,
          -72.7208117,
          -72.7020988,
          -72.6743379,
          -72.7160686,
          -72.7443182,
          -72.6661105,
          -72.6180912,
          -72.6621498,
          -72.71889469999999,
          -72.687409,
          -72.67126999999999,
          -72.7020613,
          -72.7030394,
          -72.732044,
          -72.734914,
          -72.71225609999999,
          -72.67298780000002,
          -72.7312484,
          -72.6878615,
          -72.6147242,
          -72.74544399999999,
          -72.73968839999999,
          -72.73368359999999,
          -72.6748691,
          -72.7347628,
          -72.6576632,
          -72.6703967,
          -72.712777,
          -72.74382829999999,
          -72.7362105,
          -72.6958403,
          -72.6139093,
          -72.7133128,
          -72.7143598,
          -72.7464294,
          -72.7430114,
          -72.7243594
         ],
         "marker": {
          "color": "orange",
          "size": [
           3.5,
           4.0,
           3.0,
           3.0,
           3.0,
           3.5,
           3.5,
           4.5,
           3.0,
           3.5,
           4.0,
           4.0,
           2.5,
           4.0,
           3.0,
           3.0,
           4.0,
           3.5,
           4.5,
           4.0,
           4.0,
           4.0,
           2.5,
           4.5,
           4.0,
           4.0,
           4.0,
           3.5,
           4.0,
           3.5,
           4.0,
           4.0,
           3.0,
           2.0,
           2.0,
           1.5,
           3.5,
           4.0,
           4.5,
           4.5,
           3.0,
           3.5,
           3.5,
           2.5,
           3.5,
           3.0,
           4.5,
           4.5,
           3.5,
           4.0,
           4.0,
           4.0,
           4.0,
           2.0,
           4.5,
           3.5,
           4.0,
           4.5,
           4.5,
           3.0,
           3.5,
           3.0,
           3.0,
           2.5,
           3.5,
           3.5,
           3.0,
           3.5,
           4.5,
           3.5,
           3.5,
           3.5,
           1.5,
           3.5,
           4.0,
           3.5,
           4.0,
           3.0,
           3.0,
           4.5,
           4.0,
           4.5,
           4.0,
           4.0
          ],
          "sizemode": "area",
          "sizeref": 0.05
         },
         "mode": "markers",
         "name": "$11-30",
         "showlegend": true,
         "subplot": "mapbox",
         "type": "scattermapbox"
        },
        {
         "customdata": [
          [
           "https://s3-media2.fl.yelpcdn.com/bphoto/qtrJF5qxqLM-ybg-UTuhcg/o.jpg"
          ],
          [
           "https://s3-media3.fl.yelpcdn.com/bphoto/yIZOPOXmVX6Ox2aR-iD2Bw/o.jpg"
          ],
          [
           "https://s3-media1.fl.yelpcdn.com/bphoto/vguvoFtqgx3qsBZ4qoUCmQ/o.jpg"
          ],
          [
           "https://s3-media3.fl.yelpcdn.com/bphoto/rxMQZtHXiBgG5wP1Kpv9lw/o.jpg"
          ],
          [
           "https://s3-media2.fl.yelpcdn.com/bphoto/Dpt2H5eP9Z_p72hmY6pPrg/o.jpg"
          ],
          [
           "https://s3-media3.fl.yelpcdn.com/bphoto/HoD4f6ngWYYdI0p8NXkUgA/o.jpg"
          ],
          [
           "https://s3-media3.fl.yelpcdn.com/bphoto/6T9IjFQhbpYIbvoaRo45Rg/o.jpg"
          ],
          [
           "https://s3-media2.fl.yelpcdn.com/bphoto/Q8mmrQ6CnAn-7VSHQgZ8tw/o.jpg"
          ],
          [
           "https://s3-media3.fl.yelpcdn.com/bphoto/SHtOFKt-6hMpxXQwMeicHw/o.jpg"
          ]
         ],
         "hovertemplate": "<b>%{hovertext}</b><br><br>price_labels=Over $31<br>rating=%{marker.size}<br>latitudes=%{lat}<br>longitudes=%{lon}<br>image_url=%{customdata[0]}<extra></extra>",
         "hovertext": [
          "Antojitos Colombianos, 704 Park St, Hartford, CT 06106, ",
          "Artisan Restaurant, 1 Memorial Rd, West Hartford, CT 06107, ",
          "Barcelona - West Hartford, 971 Farmington Ave, West Hartford, CT 06107, ",
          "Carbone's Ristorante, 588 Franklin Ave, Hartford, CT 06114, ",
          "Dish Bar & Grill, 900 Main St, Hartford, CT 06103, ",
          "Empire Pizza, 109 Lowrey Pl, Newington, CT 06111, ",
          "Firebox Restaurant, 539 Broad St, Hartford, CT 06106, ",
          "Fleming’s Prime Steakhouse & Wine Bar, 44 S Main St, West Hartford, CT 06107, ",
          "Francesco's Ristorante, 318 Franklin Ave, Hartford, CT 06114, "
         ],
         "lat": [
          41.7582741,
          41.7595038,
          41.7611968,
          41.7325057,
          41.7673897,
          41.6945658,
          41.7621984,
          41.76017299999999,
          41.74162279999999
         ],
         "legendgroup": "Over $31",
         "lon": [
          -72.6890052,
          -72.7389273,
          -72.7431745,
          -72.674179,
          -72.67285989999999,
          -72.7202386,
          -72.6870225,
          -72.74155,
          -72.67567500000001
         ],
         "marker": {
          "color": "red",
          "size": [
           4.5,
           3.5,
           4.5,
           4.0,
           3.5,
           2.0,
           4.0,
           4.0,
           3.0
          ],
          "sizemode": "area",
          "sizeref": 0.05
         },
         "mode": "markers",
         "name": "Over $31",
         "showlegend": true,
         "subplot": "mapbox",
         "type": "scattermapbox"
        },
        {
         "customdata": [
          [
           "https://s3-media2.fl.yelpcdn.com/bphoto/WJo0np_R4UgQa-PLb7GiYA/o.jpg"
          ],
          [
           "https://s3-media2.fl.yelpcdn.com/bphoto/ADaZAii0B3yOxRXVPiK7Tg/o.jpg"
          ],
          [
           "https://s3-media4.fl.yelpcdn.com/bphoto/3ktqVZmF8UielAyyLFrCHQ/o.jpg"
          ],
          [
           "https://s3-media3.fl.yelpcdn.com/bphoto/oK0iF6g7rC8QO38eMSYuSg/o.jpg"
          ],
          [
           "https://s3-media4.fl.yelpcdn.com/bphoto/jvqpfgiKA4kRK13WieRewQ/o.jpg"
          ],
          [
           null
          ],
          [
           "https://s3-media1.fl.yelpcdn.com/bphoto/u_CuSI4kZVV_P0Vil-LSbg/o.jpg"
          ],
          [
           "https://s3-media4.fl.yelpcdn.com/bphoto/Vzsm_qWONw-pSdPK3mY_-g/o.jpg"
          ],
          [
           "https://s3-media1.fl.yelpcdn.com/bphoto/XujOasoVspXXAXzXRg4EWw/o.jpg"
          ],
          [
           "https://s3-media3.fl.yelpcdn.com/bphoto/n7F5BZVGcKDzaNVNtS1Z4Q/o.jpg"
          ],
          [
           null
          ],
          [
           "https://s3-media2.fl.yelpcdn.com/bphoto/oWGQ6TTb5enH5DoB-VYCeg/o.jpg"
          ],
          [
           "https://s3-media3.fl.yelpcdn.com/bphoto/zCVpAojCDc5erJOeeyBtVg/o.jpg"
          ],
          [
           null
          ],
          [
           "https://s3-media4.fl.yelpcdn.com/bphoto/xq9HXOde_i879sU6dLKhog/o.jpg"
          ],
          [
           "https://s3-media4.fl.yelpcdn.com/bphoto/NPmsKtV1MQ1CZfLfPOkJLw/o.jpg"
          ],
          [
           "https://s3-media2.fl.yelpcdn.com/bphoto/jxGqG-I9WJeMut5H2L7zow/o.jpg"
          ],
          [
           "https://s3-media1.fl.yelpcdn.com/bphoto/t2Nueq63rhV75HdX9kc-hQ/o.jpg"
          ],
          [
           "https://s3-media3.fl.yelpcdn.com/bphoto/Mh2HdfSUQU7ssjHuX1cqjA/o.jpg"
          ],
          [
           "https://s3-media1.fl.yelpcdn.com/bphoto/j-jggBh3IBO9T2ufyhxgsg/o.jpg"
          ],
          [
           "https://s3-media2.fl.yelpcdn.com/bphoto/noD3bbRqNHPTvr0VLIe-vg/o.jpg"
          ],
          [
           null
          ],
          [
           "https://s3-media4.fl.yelpcdn.com/bphoto/smwgWMj2gtSs3ZvJfQiuDQ/o.jpg"
          ],
          [
           "https://s3-media2.fl.yelpcdn.com/bphoto/simBy0XxUFgQhkJ2bXc5UA/o.jpg"
          ],
          [
           "https://s3-media1.fl.yelpcdn.com/bphoto/LvOsxjy8pxk2GCc5Nnzp1A/o.jpg"
          ],
          [
           "https://s3-media2.fl.yelpcdn.com/bphoto/BTDDTo24oWTfo-Agn4it_A/o.jpg"
          ],
          [
           "https://s3-media2.fl.yelpcdn.com/bphoto/CuQHxO5eXu0x9kW7bLl9BA/o.jpg"
          ],
          [
           "https://s3-media2.fl.yelpcdn.com/bphoto/0iEMyms0E7S1RdZCUr44cw/o.jpg"
          ],
          [
           null
          ],
          [
           "https://s3-media3.fl.yelpcdn.com/bphoto/0umPJGPhbqqHyKhFqquJXw/o.jpg"
          ],
          [
           "https://s3-media1.fl.yelpcdn.com/bphoto/bAgAocm_YEz5c4Z7Lt-Klw/o.jpg"
          ]
         ],
         "hovertemplate": "<b>%{hovertext}</b><br><br>price_labels=Other<br>rating=%{marker.size}<br>latitudes=%{lat}<br>longitudes=%{lon}<br>image_url=%{customdata[0]}<extra></extra>",
         "hovertext": [
          "1000 Degrees Pizza, 2941 Main St, Glastonbury, CT 06033, ",
          "Alpha Original Pizza, 620 Silas Deane Hwy, Wethersfield, CT 06109, ",
          "Baltyk European Deli, 731 Wethersfield Ave, Hartford, CT 06114, ",
          "Bangkok Spice, 77 Pratt St, Hartford, CT 06103, ",
          "Barb's Pizza, 968 Farmington Ave, West Hartford, CT 06107, ",
          "Bellie's Grille & Catering, 77 Barbour St, Hartford, CT 06120, ",
          "Benjie's Jamaican Restaurant, 1488 Albany Ave, Hartford, CT 06112, ",
          "Bert’s Pizzaria, 264 Park Rd, West Hartford, CT 06119, ",
          "Burger and Pizza Land, 295 Barbour St, Hartford, CT 06120, ",
          "Carson’s Kitchen, 3155 Main St, Hartford, CT 06120, ",
          "The Bar & Grill, 512 Cedar St, Newington, CT 06111, ",
          "Cheek's Chicken & Waffles, 1257 Main St, East Hartford, CT 06108, ",
          "Chicken City, 106 Sisson Ave, Hartford, CT 06106, ",
          "China Garden, 1 New Britain Ave, Hartford, CT 06106, ",
          "Choice One Pizza, 24 New Britain Ave, Hartford, CT 06106, ",
          "Chosen 1 Cajun Seafood, 772 Park Ave, Bloomfield, CT 06002, ",
          "Chosen 1 Cajun Seafood, 2074 Park St, Hartford, CT 06106, ",
          "Connecticut Organic Pasta, 1142 New Britain Ave, West Hartford, CT 06110, ",
          "DiBacco's Market, 553 Franklin Ave, Hartford, CT 06114, ",
          "Dilly's Cafe, 39-41 Market Square, Newington, CT 06111, ",
          "Drea's Kitchen, 99 Maple Ave, Hartford, CT 06114, ",
          "Einstein Bros Bagels, 200 Bloomfield Ave, West Hartford, CT 06117, ",
          "El Bajio Restaurant, 289 Franklin Ave, Hartford, CT 06114, ",
          "El Poeta  de los Sandwiches, 22 Pratt St, Hartford, CT 06103, ",
          "El Senor De Los Tamales, 262 Franklin Ave, Hartford, CT 06114, ",
          "Feng Chophouse, 93 Asylum St, Hartford, CT 06103, ",
          "Fiambrera Criolla, 881 New Britain Ave, Hartford, CT 06106, ",
          "Fiddleheads Cafe, 533 Farmington Ave, Hartford, CT 06105, ",
          "First & Last Tavern, Hartford, CT, , ",
          "Fornarelli's Ristorante & Bar, 283 Asylum St, Hartford, CT 06103, ",
          "Fuego Picante, 495 Flatbush Ave, Hartford, CT 06106, "
         ],
         "lat": [
          41.723593,
          41.7082238,
          41.7359035,
          41.76762009999999,
          41.7620356,
          41.7874331,
          41.7840206,
          41.7571961,
          41.793292,
          41.7946575,
          41.69539650000001,
          41.7752066,
          41.7612134,
          41.7469411,
          41.7470596,
          41.8291045,
          41.7563712,
          41.7332389,
          41.7335312,
          41.6961916,
          41.7535634,
          41.7984508,
          41.7424893,
          41.7676114,
          41.7436261,
          41.7668951,
          41.7317025,
          41.7661204,
          41.7338982,
          41.767252,
          41.7318351
         ],
         "legendgroup": "Other",
         "lon": [
          -72.6153917,
          -72.66181,
          -72.6710243,
          -72.67470469999999,
          -72.74348839999999,
          -72.679183,
          -72.701683,
          -72.7263519,
          -72.67743779999999,
          -72.66456099999999,
          -72.7468902,
          -72.6401789,
          -72.70622929999999,
          -72.6834693,
          -72.68433809999999,
          -72.7319519,
          -72.7137016,
          -72.7332428,
          -72.6750893,
          -72.7221045,
          -72.6777188,
          -72.7137664,
          -72.67667089999999,
          -72.6736746,
          -72.6761599,
          -72.67499579999999,
          -72.7129436,
          -72.7097852,
          -72.6878615,
          -72.6784256,
          -72.72584619999999
         ],
         "marker": {
          "color": "grey",
          "size": [
           3.5,
           3.5,
           5.0,
           4.5,
           4.5,
           5.0,
           3.5,
           4.5,
           1.0,
           4.0,
           5.0,
           3.5,
           4.0,
           4.0,
           2.0,
           3.5,
           3.5,
           5.0,
           4.0,
           4.5,
           3.5,
           2.5,
           4.0,
           2.5,
           5.0,
           4.5,
           1.5,
           4.5,
           3.0,
           4.0,
           4.5
          ],
          "sizemode": "area",
          "sizeref": 0.05
         },
         "mode": "markers",
         "name": "Other",
         "showlegend": true,
         "subplot": "mapbox",
         "type": "scattermapbox"
        }
       ],
       "layout": {
        "template": {
         "data": {
          "histogram2dcontour": [
           {
            "type": "histogram2dcontour",
            "colorbar": {
             "outlinewidth": 0,
             "ticks": ""
            },
            "colorscale": [
             [
              0.0,
              "#0d0887"
             ],
             [
              0.1111111111111111,
              "#46039f"
             ],
             [
              0.2222222222222222,
              "#7201a8"
             ],
             [
              0.3333333333333333,
              "#9c179e"
             ],
             [
              0.4444444444444444,
              "#bd3786"
             ],
             [
              0.5555555555555556,
              "#d8576b"
             ],
             [
              0.6666666666666666,
              "#ed7953"
             ],
             [
              0.7777777777777778,
              "#fb9f3a"
             ],
             [
              0.8888888888888888,
              "#fdca26"
             ],
             [
              1.0,
              "#f0f921"
             ]
            ]
           }
          ],
          "choropleth": [
           {
            "type": "choropleth",
            "colorbar": {
             "outlinewidth": 0,
             "ticks": ""
            }
           }
          ],
          "histogram2d": [
           {
            "type": "histogram2d",
            "colorbar": {
             "outlinewidth": 0,
             "ticks": ""
            },
            "colorscale": [
             [
              0.0,
              "#0d0887"
             ],
             [
              0.1111111111111111,
              "#46039f"
             ],
             [
              0.2222222222222222,
              "#7201a8"
             ],
             [
              0.3333333333333333,
              "#9c179e"
             ],
             [
              0.4444444444444444,
              "#bd3786"
             ],
             [
              0.5555555555555556,
              "#d8576b"
             ],
             [
              0.6666666666666666,
              "#ed7953"
             ],
             [
              0.7777777777777778,
              "#fb9f3a"
             ],
             [
              0.8888888888888888,
              "#fdca26"
             ],
             [
              1.0,
              "#f0f921"
             ]
            ]
           }
          ],
          "heatmap": [
           {
            "type": "heatmap",
            "colorbar": {
             "outlinewidth": 0,
             "ticks": ""
            },
            "colorscale": [
             [
              0.0,
              "#0d0887"
             ],
             [
              0.1111111111111111,
              "#46039f"
             ],
             [
              0.2222222222222222,
              "#7201a8"
             ],
             [
              0.3333333333333333,
              "#9c179e"
             ],
             [
              0.4444444444444444,
              "#bd3786"
             ],
             [
              0.5555555555555556,
              "#d8576b"
             ],
             [
              0.6666666666666666,
              "#ed7953"
             ],
             [
              0.7777777777777778,
              "#fb9f3a"
             ],
             [
              0.8888888888888888,
              "#fdca26"
             ],
             [
              1.0,
              "#f0f921"
             ]
            ]
           }
          ],
          "heatmapgl": [
           {
            "type": "heatmapgl",
            "colorbar": {
             "outlinewidth": 0,
             "ticks": ""
            },
            "colorscale": [
             [
              0.0,
              "#0d0887"
             ],
             [
              0.1111111111111111,
              "#46039f"
             ],
             [
              0.2222222222222222,
              "#7201a8"
             ],
             [
              0.3333333333333333,
              "#9c179e"
             ],
             [
              0.4444444444444444,
              "#bd3786"
             ],
             [
              0.5555555555555556,
              "#d8576b"
             ],
             [
              0.6666666666666666,
              "#ed7953"
             ],
             [
              0.7777777777777778,
              "#fb9f3a"
             ],
             [
              0.8888888888888888,
              "#fdca26"
             ],
             [
              1.0,
              "#f0f921"
             ]
            ]
           }
          ],
          "contourcarpet": [
           {
            "type": "contourcarpet",
            "colorbar": {
             "outlinewidth": 0,
             "ticks": ""
            }
           }
          ],
          "contour": [
           {
            "type": "contour",
            "colorbar": {
             "outlinewidth": 0,
             "ticks": ""
            },
            "colorscale": [
             [
              0.0,
              "#0d0887"
             ],
             [
              0.1111111111111111,
              "#46039f"
             ],
             [
              0.2222222222222222,
              "#7201a8"
             ],
             [
              0.3333333333333333,
              "#9c179e"
             ],
             [
              0.4444444444444444,
              "#bd3786"
             ],
             [
              0.5555555555555556,
              "#d8576b"
             ],
             [
              0.6666666666666666,
              "#ed7953"
             ],
             [
              0.7777777777777778,
              "#fb9f3a"
             ],
             [
              0.8888888888888888,
              "#fdca26"
             ],
             [
              1.0,
              "#f0f921"
             ]
            ]
           }
          ],
          "surface": [
           {
            "type": "surface",
            "colorbar": {
             "outlinewidth": 0,
             "ticks": ""
            },
            "colorscale": [
             [
              0.0,
              "#0d0887"
             ],
             [
              0.1111111111111111,
              "#46039f"
             ],
             [
              0.2222222222222222,
              "#7201a8"
             ],
             [
              0.3333333333333333,
              "#9c179e"
             ],
             [
              0.4444444444444444,
              "#bd3786"
             ],
             [
              0.5555555555555556,
              "#d8576b"
             ],
             [
              0.6666666666666666,
              "#ed7953"
             ],
             [
              0.7777777777777778,
              "#fb9f3a"
             ],
             [
              0.8888888888888888,
              "#fdca26"
             ],
             [
              1.0,
              "#f0f921"
             ]
            ]
           }
          ],
          "mesh3d": [
           {
            "type": "mesh3d",
            "colorbar": {
             "outlinewidth": 0,
             "ticks": ""
            }
           }
          ],
          "scatter": [
           {
            "fillpattern": {
             "fillmode": "overlay",
             "size": 10,
             "solidity": 0.2
            },
            "type": "scatter"
           }
          ],
          "parcoords": [
           {
            "type": "parcoords",
            "line": {
             "colorbar": {
              "outlinewidth": 0,
              "ticks": ""
             }
            }
           }
          ],
          "scatterpolargl": [
           {
            "type": "scatterpolargl",
            "marker": {
             "colorbar": {
              "outlinewidth": 0,
              "ticks": ""
             }
            }
           }
          ],
          "bar": [
           {
            "error_x": {
             "color": "#2a3f5f"
            },
            "error_y": {
             "color": "#2a3f5f"
            },
            "marker": {
             "line": {
              "color": "#E5ECF6",
              "width": 0.5
             },
             "pattern": {
              "fillmode": "overlay",
              "size": 10,
              "solidity": 0.2
             }
            },
            "type": "bar"
           }
          ],
          "scattergeo": [
           {
            "type": "scattergeo",
            "marker": {
             "colorbar": {
              "outlinewidth": 0,
              "ticks": ""
             }
            }
           }
          ],
          "scatterpolar": [
           {
            "type": "scatterpolar",
            "marker": {
             "colorbar": {
              "outlinewidth": 0,
              "ticks": ""
             }
            }
           }
          ],
          "histogram": [
           {
            "marker": {
             "pattern": {
              "fillmode": "overlay",
              "size": 10,
              "solidity": 0.2
             }
            },
            "type": "histogram"
           }
          ],
          "scattergl": [
           {
            "type": "scattergl",
            "marker": {
             "colorbar": {
              "outlinewidth": 0,
              "ticks": ""
             }
            }
           }
          ],
          "scatter3d": [
           {
            "type": "scatter3d",
            "line": {
             "colorbar": {
              "outlinewidth": 0,
              "ticks": ""
             }
            },
            "marker": {
             "colorbar": {
              "outlinewidth": 0,
              "ticks": ""
             }
            }
           }
          ],
          "scattermapbox": [
           {
            "type": "scattermapbox",
            "marker": {
             "colorbar": {
              "outlinewidth": 0,
              "ticks": ""
             }
            }
           }
          ],
          "scatterternary": [
           {
            "type": "scatterternary",
            "marker": {
             "colorbar": {
              "outlinewidth": 0,
              "ticks": ""
             }
            }
           }
          ],
          "scattercarpet": [
           {
            "type": "scattercarpet",
            "marker": {
             "colorbar": {
              "outlinewidth": 0,
              "ticks": ""
             }
            }
           }
          ],
          "carpet": [
           {
            "aaxis": {
             "endlinecolor": "#2a3f5f",
             "gridcolor": "white",
             "linecolor": "white",
             "minorgridcolor": "white",
             "startlinecolor": "#2a3f5f"
            },
            "baxis": {
             "endlinecolor": "#2a3f5f",
             "gridcolor": "white",
             "linecolor": "white",
             "minorgridcolor": "white",
             "startlinecolor": "#2a3f5f"
            },
            "type": "carpet"
           }
          ],
          "table": [
           {
            "cells": {
             "fill": {
              "color": "#EBF0F8"
             },
             "line": {
              "color": "white"
             }
            },
            "header": {
             "fill": {
              "color": "#C8D4E3"
             },
             "line": {
              "color": "white"
             }
            },
            "type": "table"
           }
          ],
          "barpolar": [
           {
            "marker": {
             "line": {
              "color": "#E5ECF6",
              "width": 0.5
             },
             "pattern": {
              "fillmode": "overlay",
              "size": 10,
              "solidity": 0.2
             }
            },
            "type": "barpolar"
           }
          ],
          "pie": [
           {
            "automargin": true,
            "type": "pie"
           }
          ]
         },
         "layout": {
          "autotypenumbers": "strict",
          "colorway": [
           "#636efa",
           "#EF553B",
           "#00cc96",
           "#ab63fa",
           "#FFA15A",
           "#19d3f3",
           "#FF6692",
           "#B6E880",
           "#FF97FF",
           "#FECB52"
          ],
          "font": {
           "color": "#2a3f5f"
          },
          "hovermode": "closest",
          "hoverlabel": {
           "align": "left"
          },
          "paper_bgcolor": "white",
          "plot_bgcolor": "#E5ECF6",
          "polar": {
           "bgcolor": "#E5ECF6",
           "angularaxis": {
            "gridcolor": "white",
            "linecolor": "white",
            "ticks": ""
           },
           "radialaxis": {
            "gridcolor": "white",
            "linecolor": "white",
            "ticks": ""
           }
          },
          "ternary": {
           "bgcolor": "#E5ECF6",
           "aaxis": {
            "gridcolor": "white",
            "linecolor": "white",
            "ticks": ""
           },
           "baxis": {
            "gridcolor": "white",
            "linecolor": "white",
            "ticks": ""
           },
           "caxis": {
            "gridcolor": "white",
            "linecolor": "white",
            "ticks": ""
           }
          },
          "coloraxis": {
           "colorbar": {
            "outlinewidth": 0,
            "ticks": ""
           }
          },
          "colorscale": {
           "sequential": [
            [
             0.0,
             "#0d0887"
            ],
            [
             0.1111111111111111,
             "#46039f"
            ],
            [
             0.2222222222222222,
             "#7201a8"
            ],
            [
             0.3333333333333333,
             "#9c179e"
            ],
            [
             0.4444444444444444,
             "#bd3786"
            ],
            [
             0.5555555555555556,
             "#d8576b"
            ],
            [
             0.6666666666666666,
             "#ed7953"
            ],
            [
             0.7777777777777778,
             "#fb9f3a"
            ],
            [
             0.8888888888888888,
             "#fdca26"
            ],
            [
             1.0,
             "#f0f921"
            ]
           ],
           "sequentialminus": [
            [
             0.0,
             "#0d0887"
            ],
            [
             0.1111111111111111,
             "#46039f"
            ],
            [
             0.2222222222222222,
             "#7201a8"
            ],
            [
             0.3333333333333333,
             "#9c179e"
            ],
            [
             0.4444444444444444,
             "#bd3786"
            ],
            [
             0.5555555555555556,
             "#d8576b"
            ],
            [
             0.6666666666666666,
             "#ed7953"
            ],
            [
             0.7777777777777778,
             "#fb9f3a"
            ],
            [
             0.8888888888888888,
             "#fdca26"
            ],
            [
             1.0,
             "#f0f921"
            ]
           ],
           "diverging": [
            [
             0,
             "#8e0152"
            ],
            [
             0.1,
             "#c51b7d"
            ],
            [
             0.2,
             "#de77ae"
            ],
            [
             0.3,
             "#f1b6da"
            ],
            [
             0.4,
             "#fde0ef"
            ],
            [
             0.5,
             "#f7f7f7"
            ],
            [
             0.6,
             "#e6f5d0"
            ],
            [
             0.7,
             "#b8e186"
            ],
            [
             0.8,
             "#7fbc41"
            ],
            [
             0.9,
             "#4d9221"
            ],
            [
             1,
             "#276419"
            ]
           ]
          },
          "xaxis": {
           "gridcolor": "white",
           "linecolor": "white",
           "ticks": "",
           "title": {
            "standoff": 15
           },
           "zerolinecolor": "white",
           "automargin": true,
           "zerolinewidth": 2
          },
          "yaxis": {
           "gridcolor": "white",
           "linecolor": "white",
           "ticks": "",
           "title": {
            "standoff": 15
           },
           "zerolinecolor": "white",
           "automargin": true,
           "zerolinewidth": 2
          },
          "scene": {
           "xaxis": {
            "backgroundcolor": "#E5ECF6",
            "gridcolor": "white",
            "linecolor": "white",
            "showbackground": true,
            "ticks": "",
            "zerolinecolor": "white",
            "gridwidth": 2
           },
           "yaxis": {
            "backgroundcolor": "#E5ECF6",
            "gridcolor": "white",
            "linecolor": "white",
            "showbackground": true,
            "ticks": "",
            "zerolinecolor": "white",
            "gridwidth": 2
           },
           "zaxis": {
            "backgroundcolor": "#E5ECF6",
            "gridcolor": "white",
            "linecolor": "white",
            "showbackground": true,
            "ticks": "",
            "zerolinecolor": "white",
            "gridwidth": 2
           }
          },
          "shapedefaults": {
           "line": {
            "color": "#2a3f5f"
           }
          },
          "annotationdefaults": {
           "arrowcolor": "#2a3f5f",
           "arrowhead": 0,
           "arrowwidth": 1
          },
          "geo": {
           "bgcolor": "white",
           "landcolor": "#E5ECF6",
           "subunitcolor": "white",
           "showland": true,
           "showlakes": true,
           "lakecolor": "white"
          },
          "title": {
           "x": 0.05
          },
          "mapbox": {
           "style": "light"
          }
         }
        },
        "mapbox": {
         "domain": {
          "x": [
           0.0,
           1.0
          ],
          "y": [
           0.0,
           1.0
          ]
         },
         "center": {
          "lat": 41.75304865025126,
          "lon": -72.69066756683416
         },
         "zoom": 10,
         "style": "dark",
         "accesstoken": "pk.eyJ1IjoiYWNzMTQwMDciLCJhIjoiY2pnODZwb2R2M2QzcTJxcXBwOGgzc3V4dCJ9.E1viXuoWh7rr9Zi5Bwa9TA"
        },
        "legend": {
         "title": {
          "text": "Price"
         },
         "tracegroupgap": 0,
         "itemsizing": "constant",
         "orientation": "h",
         "yanchor": "bottom",
         "y": 1.02,
         "xanchor": "right",
         "x": 1
        },
        "margin": {
         "t": 60
        }
       },
       "config": {
        "plotlyServerURL": "https://plot.ly"
       }
      },
      "text/html": "<div>                            <div id=\"f7f4f47b-ca56-482d-802a-966ff0bfaa3d\" class=\"plotly-graph-div\" style=\"height:525px; width:100%;\"></div>            <script type=\"text/javascript\">                require([\"plotly\"], function(Plotly) {                    window.PLOTLYENV=window.PLOTLYENV || {};                                    if (document.getElementById(\"f7f4f47b-ca56-482d-802a-966ff0bfaa3d\")) {                    Plotly.newPlot(                        \"f7f4f47b-ca56-482d-802a-966ff0bfaa3d\",                        [{\"customdata\":[[\"https://s3-media3.fl.yelpcdn.com/bphoto/cd1vI6R88dEWSL1EO0UYNw/o.jpg\"],[\"https://s3-media3.fl.yelpcdn.com/bphoto/62Dc9SQlYMKmY6rsJBoLvQ/o.jpg\"],[\"https://s3-media3.fl.yelpcdn.com/bphoto/4_IRevI2Q34KxSlZ-z9ThA/o.jpg\"],[\"https://s3-media1.fl.yelpcdn.com/bphoto/ii4z7k4pA8YsXps5XN1QwQ/o.jpg\"],[\"https://s3-media1.fl.yelpcdn.com/bphoto/ZlqSjJixlEH9cAdGbm8xhg/o.jpg\"],[\"https://s3-media2.fl.yelpcdn.com/bphoto/hHlRBNOloOR5m-_KmEPkXQ/o.jpg\"],[\"https://s3-media1.fl.yelpcdn.com/bphoto/T4QPlYJBkKeR7bREtlMHCg/o.jpg\"],[\"https://s3-media4.fl.yelpcdn.com/bphoto/L7Ng3WxvdFzig8ZHi2Yg9w/o.jpg\"],[\"https://s3-media2.fl.yelpcdn.com/bphoto/7tZRPUHEc4a_lCzhgsTHKw/o.jpg\"],[\"https://s3-media2.fl.yelpcdn.com/bphoto/ppY1fOeB--nUrVznbdI6qA/o.jpg\"],[\"https://s3-media1.fl.yelpcdn.com/bphoto/Aio2YMFxPG-mry8cCjv8oA/o.jpg\"],[\"https://s3-media4.fl.yelpcdn.com/bphoto/07OzB4mXRS3Q41-ei_5ZJQ/o.jpg\"],[\"https://s3-media3.fl.yelpcdn.com/bphoto/SjZpy8pStO7m3Z__fuSDHg/o.jpg\"],[\"https://s3-media3.fl.yelpcdn.com/bphoto/_F_SVoHlS-GTEZnX8ZCQNw/o.jpg\"],[\"https://s3-media4.fl.yelpcdn.com/bphoto/6AcdmlWjp8bMFQdK5IaKAw/o.jpg\"],[\"https://s3-media4.fl.yelpcdn.com/bphoto/zngwpZwC_xXQ9qQlaphMjg/o.jpg\"],[\"https://s3-media1.fl.yelpcdn.com/bphoto/z2xsOp4WZpGZQQwCIqFh5g/o.jpg\"],[\"https://s3-media3.fl.yelpcdn.com/bphoto/XdlGTcPM8plIqJzDO0YvPg/o.jpg\"],[\"https://s3-media4.fl.yelpcdn.com/bphoto/TuTHarxZ7fD9s9ebj0svcA/o.jpg\"],[\"https://s3-media1.fl.yelpcdn.com/bphoto/cAeEbBqq4XDc9WC5RCUzWw/o.jpg\"],[\"https://s3-media4.fl.yelpcdn.com/bphoto/6EoKslQlOAAwpVnt_9FoDg/o.jpg\"],[\"https://s3-media4.fl.yelpcdn.com/bphoto/YJ7muf1Gz3FRSWAYFzDJQQ/o.jpg\"],[\"https://s3-media3.fl.yelpcdn.com/bphoto/AFYk8EC2w1eTS3hwRQ8lNg/o.jpg\"],[\"https://s3-media3.fl.yelpcdn.com/bphoto/WwTT6YORmva3ePVBOMFAHQ/o.jpg\"],[\"https://s3-media4.fl.yelpcdn.com/bphoto/hcuMrcnx4hx9i47bwAVPQw/o.jpg\"],[\"https://s3-media1.fl.yelpcdn.com/bphoto/7kFHXBnALjV9AXAezzApNw/o.jpg\"],[\"https://s3-media3.fl.yelpcdn.com/bphoto/8O83eVn3B5J1ObcjhN6jMQ/o.jpg\"],[\"https://s3-media1.fl.yelpcdn.com/bphoto/hH16C2gLA4H-eek8d5AmXw/o.jpg\"],[\"https://s3-media1.fl.yelpcdn.com/bphoto/Xhoyv3IpXDt5rdUjkvdiFA/o.jpg\"],[\"https://s3-media1.fl.yelpcdn.com/bphoto/alvVdocObANtgnMNi7tTwQ/o.jpg\"],[\"https://s3-media1.fl.yelpcdn.com/bphoto/-Lrl1sPB_b_-bQPeB7JFow/o.jpg\"],[\"https://s3-media2.fl.yelpcdn.com/bphoto/39oo86tnEGzlNEWpidfXQw/o.jpg\"],[\"https://s3-media1.fl.yelpcdn.com/bphoto/DfVWpU0H2L_MqAUvdUSvDw/o.jpg\"],[\"https://s3-media2.fl.yelpcdn.com/bphoto/w9wvFuI74p9bJBMTCVYROA/o.jpg\"],[\"https://s3-media3.fl.yelpcdn.com/bphoto/n9KSVZl4SOrvlLsDgt1TtQ/o.jpg\"],[\"https://s3-media1.fl.yelpcdn.com/bphoto/Bskc3g-4J2hCt7KnPsQA1g/o.jpg\"],[\"https://s3-media3.fl.yelpcdn.com/bphoto/laFJ0Zgxu_00tNPw6Kbjfg/o.jpg\"],[\"https://s3-media3.fl.yelpcdn.com/bphoto/JfRSuU-sE63f_Ak1U5Dguw/o.jpg\"],[\"https://s3-media2.fl.yelpcdn.com/bphoto/remXtJP1-lcHGpe8R8WlgA/o.jpg\"],[\"https://s3-media4.fl.yelpcdn.com/bphoto/e67UZFrQQ6wuVa_zWeqaZQ/o.jpg\"],[\"https://s3-media3.fl.yelpcdn.com/bphoto/Xy4I1YbmxJZiVX7nrFHRoQ/o.jpg\"],[\"https://s3-media3.fl.yelpcdn.com/bphoto/cSAnNR6PMMYwgfKO3XeW1w/o.jpg\"],[\"https://s3-media2.fl.yelpcdn.com/bphoto/HE-wh2rfJ73QpxmKGfINtQ/o.jpg\"],[\"https://s3-media1.fl.yelpcdn.com/bphoto/1HzZFNS9sV1L6dI74ZM-EA/o.jpg\"],[\"https://s3-media3.fl.yelpcdn.com/bphoto/ju6sZkosi795uJ6BnzB7lQ/o.jpg\"],[\"https://s3-media3.fl.yelpcdn.com/bphoto/8QhC5y0z0wlRHL3l7Ep3wg/o.jpg\"],[\"https://s3-media3.fl.yelpcdn.com/bphoto/gJ2eKCQFnq-sbXDdElWMyA/o.jpg\"],[\"https://s3-media2.fl.yelpcdn.com/bphoto/GYceTwjqylycwhCpi27RQw/o.jpg\"],[\"https://s3-media2.fl.yelpcdn.com/bphoto/d_bkQ-xvQaBU0RQLBw1EPQ/o.jpg\"],[\"https://s3-media2.fl.yelpcdn.com/bphoto/PD22HVOocgiCYY9N39EQJw/o.jpg\"],[\"https://s3-media1.fl.yelpcdn.com/bphoto/hTiwAyE9X4N8Ue_WZSlk9w/o.jpg\"],[\"https://s3-media3.fl.yelpcdn.com/bphoto/hadMLoQha11lf3egn123tw/o.jpg\"],[\"https://s3-media3.fl.yelpcdn.com/bphoto/9GDIK9FP1IVn-EU3LJSYdA/o.jpg\"],[\"https://s3-media4.fl.yelpcdn.com/bphoto/34SrKXEhBDYsiQ0FrtqkwQ/o.jpg\"],[\"https://s3-media4.fl.yelpcdn.com/bphoto/3KWzhYmVUozE3_mmVnFozg/o.jpg\"],[\"https://s3-media3.fl.yelpcdn.com/bphoto/yI0q8_reP9T1QgrJyoqR1g/o.jpg\"],[\"https://s3-media3.fl.yelpcdn.com/bphoto/KaJPsvtWkk_yU8EvEL84_A/o.jpg\"],[\"https://s3-media2.fl.yelpcdn.com/bphoto/YwRsXnnGv9-kfFtytmfd5g/o.jpg\"],[\"https://s3-media2.fl.yelpcdn.com/bphoto/69hMZgnlNnkPW3A4nB10dw/o.jpg\"],[\"https://s3-media3.fl.yelpcdn.com/bphoto/PXEuk6rHu8hYSKU6Kz0IFQ/o.jpg\"],[\"https://s3-media1.fl.yelpcdn.com/bphoto/R0mb6K3slk-LPrH1CddrAA/o.jpg\"],[\"https://s3-media3.fl.yelpcdn.com/bphoto/NGoohAz3Ln_E1sRGlgxDjw/o.jpg\"],[\"https://s3-media4.fl.yelpcdn.com/bphoto/XwfFojbUi9wYfiWDTIA0ng/o.jpg\"],[\"https://s3-media1.fl.yelpcdn.com/bphoto/6ZyWyXjDTYvWZ91Sy9Al8Q/o.jpg\"],[\"https://s3-media2.fl.yelpcdn.com/bphoto/QFeDep_bE9TTDX9UcoEX9A/o.jpg\"],[\"https://s3-media4.fl.yelpcdn.com/bphoto/NK1YPBF50Ijs3_jgW4JVEg/o.jpg\"],[\"https://s3-media1.fl.yelpcdn.com/bphoto/7g4GW5Qzm9JkkKfhshv0tw/o.jpg\"],[\"https://s3-media4.fl.yelpcdn.com/bphoto/Rh3ahKL2nUTRqFXxB4Vm1Q/o.jpg\"],[\"https://s3-media4.fl.yelpcdn.com/bphoto/bJaJW75OfTbfsa5whQUJww/o.jpg\"],[\"https://s3-media3.fl.yelpcdn.com/bphoto/2mUxRotgpzyGF6tob6Lfvw/o.jpg\"],[\"https://s3-media3.fl.yelpcdn.com/bphoto/V-l6t0M6SI4MkxN3xjK9FQ/o.jpg\"],[\"https://s3-media4.fl.yelpcdn.com/bphoto/8IinUB8ufl0EyqA_ZbuHNA/o.jpg\"],[\"https://s3-media2.fl.yelpcdn.com/bphoto/eOYh6jSfEowKdPLw3jLtFw/o.jpg\"],[\"https://s3-media3.fl.yelpcdn.com/bphoto/LGNBFmH_eDvA3QOUxoJY6Q/o.jpg\"],[\"https://s3-media4.fl.yelpcdn.com/bphoto/wcllX8XhltrMcTAdGk3EHA/o.jpg\"]],\"hovertemplate\":\"<b>%{hovertext}</b><br><br>price_labels=Under $10<br>rating=%{marker.size}<br>latitudes=%{lat}<br>longitudes=%{lon}<br>image_url=%{customdata[0]}<extra></extra>\",\"hovertext\":[\"5 And Dime Canteen, 1100 Main St, Newington, CT 06111, \",\"ABC Pizza House, 287 New Britain Ave, Hartford, CT 06106, \",\"Ajamo, 30 State House Sq, Hartford, CT 06103, \",\"Aladdin Halal, 100 Allyn St, Hartford, CT 06103, \",\"Allegro Cafe, 347 Franklin Ave, Hartford, CT 06114, \",\"Angelina's Pizza, 41 Prospect Ave, West Hartford, CT 06106, \",\"Aqui Me Quedo Restaurant, 622 Park St, Hartford, CT 06106, \",\"Aqui Me Quedo Restaurant, 150 Albany Ave, Hartford, CT 06120, \",\"Aroma Bistro, 227 Main St, Wethersfield, CT 06109, \",\"Ashley's Restaurant, 221 Main St, Hartford, CT 06106, \",\"Augie & Ray's Drive In, 314 Main St, East Hartford, CT 06118, \",\"Banh Meee, 399 Capitol Ave, Hartford, CT 06106, \",\"Bella Gourmet Pizzeria, 125 Fenn Rd, Newington, CT 06111, \",\"Between Rounds Bakery Sandwich Cafe, 19 John Fitch Blvd, South Windsor, CT 06074, \",\"Boston Market, 417 Cottage Grove Rd, Bloomfield, CT 06002, \",\"Boston Market, 2834 Main St, Glastonbury, CT 06033, \",\"Broasterant, 630 Park St, Hartford, CT 06106, \",\"Bruegger's Bagels, 1 S Main St, W Hartford, CT 06107, \",\"Bruegger's Bagels, 2801 Main St, Glastonbury, CT 06033, \",\"Buon Appetito Food Truck, 500 Statehouse Square, Hartford, CT 06183, \",\"Burger King, 914 New Britain Ave, Hartford, CT 06106, \",\"Burger King, 872 Silas Deane Hwy, Wethersfield, CT 06109, \",\"Burger King, 19 Granby Street, Bloomfield, CT 06002, \",\"Burger King, 3025 Main Street, Glastonbury, CT 06033, \",\"Burger King, 186 Prospect Ave, Hartford, CT 06106, \",\"Burger King, 524 Farmington Ave, Hartford, CT 06105, \",\"Burger King, 708 Silver Lane, East Hartford, CT 06118, \",\"Burger King, 70 Airport Rd, Hartford, CT 06114, \",\"Burger King, 102 Weston Street, Hartford, CT 06120, \",\"Burger King, 811 Main Street, Hartford, CT 06103, \",\"Cafe Sofia, 984 Farmington Ave, West Hartford, CT 06107, \",\"Castillo's Pizzeria, 1257 Main St, East Hartford, CT 06108, \",\"Charlie's Pizzeria, 386 Prospect St, East Hartford, CT 06108, \",\"Chef's Dog House, 337 Willard Ave, Newington, CT 06111, \",\"Chick-fil-A, 2941 Main St, Glastonbury, CT 06033, \",\"Chick-fil-A, 509 New Park Ave, West Hartford, CT 06110, \",\"China House, 498 Farmington Ave, Ste A, Hartford, CT 06105\",\"China House, 344 Franklin Ave, Hartford, CT 06114, \",\"China Jade, 1954 Park St, Hartford, CT 06106, \",\"China King, 259 Sisson Ave, Hartford, CT 06105, \",\"China Kitchen, 162 Washington St, Hartford, CT 06106, \",\"Chipotle Mexican Grill, 140 Glastonbury Blvd, Ste 4, Glastonbury, CT 06033\",\"Chipotle Mexican Grill, 1084 Silas Deane Hwy, Wethersfield, CT 06109, \",\"Chipotle Mexican Grill, 966 Farmington Ave, West Hartford, CT 06107, \",\"Chris\\\"s Pizza and Deli, 85 Airport Rd, Hartford, CT 06114, \",\"Church & Main Delicatessen, 20 Church St, Hartford, CT 06103, \",\"Cisco's American Breakfast & Mexican Cuisine, 254 Hartford Ave, Newington, CT 06111, \",\"Comerio, 158 Park St, Hartford, CT 06106, \",\"Corner Grinder, 200 Franklin Ave, Hartford, CT 06114, \",\"Cornerstone, 529 Main St, Hartford, CT 06103, \",\"Cosmos International, 770 Farmington Ave, West Hartford, CT 06119, \",\"Denny's, 539 Flatbush Ave, Hartford, CT 06106, \",\"Destiny Awaits Restaurant & Jerk Center, 3343 Main St, Hartford, CT 06120, \",\"Domino's Pizza, 1143 New Britain Ave, Ste C, West Hartford, CT 06110\",\"Domino's Pizza, 312 Farmington Ave, Hartford, CT 06105, \",\"Donde Julio Restaurant- Hartford, 83 Park St, Hartford, CT 06106, \",\"El Mercado, 704 Park St, Hartford, CT 06106, \",\"El Poeta De Los Sandwiches, 22 Pratt St, Hartford, CT 06106, \",\"El Salvador, 514 Burnside Ave, East Hartford, CT 06108, \",\"Far East Buffet, 188 Silas Deane Hwy, Wethersfield, CT 06109, \",\"Fire & Spice Vegan Restaurant, 491 Capitol Ave, Hartford, CT 06106, \",\"First and Last Bakery Cafe, 920 Maple Ave, Hartford, CT 06114, \",\"Fortune Chinese Restaurant, 97 Prospect Ave, Hartford, CT 06106, \",\"Freshii, 892 Main St, Hartford, CT 06103, \",\"Fung Chinese Restaurant, 891 Maple Ave, Hartford, CT 06114, \",\"Ginger Root Japanese & Chinese, 9 Main St, East Hartford, CT 06118, \",\"Gino's Pizza & Ranch House, 407 Cottage Grove Rd, Bloomfield, CT 06002, \",\"Ginza Express, 89 Asylum St, Hartford, CT 06103, \",\"Gold Roc Diner, 61 Kane St, West Hartford, CT 06119, \",\"Goldberg's Bagels, 1131 New Britain Ave, Ste A, West Hartford, CT 06110\",\"GoldBurgers, 1096 Main St, Newington, CT 06111, \",\"Great TSO, 278 Park Rd, Ste B, West Hartford, CT 06119\",\"Great Wall, 685 Silas Deane Hwy, Wethersfield, CT 06109, \",\"Hartford # 1 Chinese Restaurant, 3155 Main St, Hartford, CT 06120, \",\"Hartford Baking, 965 Farmington Ave, West Hartford, CT 06107, \"],\"lat\":[41.6967699,41.742456,41.7666206,41.7685242,41.740465,41.7463416,41.7582241,41.77550129999999,41.7125213,41.7584394,41.7441688,41.7671378,41.701345,41.7998361,41.817605,41.7203097,41.7581633,41.7617053,41.719096,41.7662892,41.7317362,41.6997747,41.81650519999999,41.7265017,41.7516226,41.7667546,41.7643859,41.7383716,41.787993,41.7664105,41.7613235,41.7752011,41.7707777,41.7100256,41.723593,41.7396922,41.766827,41.7406777,41.756611,41.7661496,41.757606,41.72037400000001,41.6926378,41.7618894,41.7380076,41.7691285,41.7185406,41.757624,41.7457137,41.762576,41.7652778,41.7419514,41.7970589,41.7324489,41.7680399,41.757149,41.7582454,41.7676114,41.7784024,41.7218914,41.7633632,41.7340832,41.7481774,41.7672956,41.735259,41.7282567,41.8172526,41.7668657,41.7508333,41.732575,41.696817,41.756929,41.7059109,41.7946891,41.756262],\"legendgroup\":\"Under $10\",\"lon\":[-72.72282249999999,-72.6916047,-72.67276199999999,-72.6782589,-72.6763471,-72.71533099999999,-72.68719779999999,-72.6793282,-72.6529597,-72.6756575,-72.6328039,-72.6779486,-72.755313,-72.61898359999999,-72.7162815,-72.61379459999999,-72.68739699999999,-72.74244949999999,-72.6142893,-72.6723583,-72.7146173,-72.6585697,-72.7097565,-72.6175964,-72.7146703,-72.70945069999999,-72.61360599999999,-72.6681062,-72.6603073,-72.6734662,-72.7446968,-72.6401853,-72.6497085,-72.7367992,-72.6153917,-72.7195528,-72.70818899999999,-72.6755465,-72.711269,-72.7076003,-72.681967,-72.6209659,-72.65534079999999,-72.7430722,-72.66720289999999,-72.6743379,-72.71704489999999,-72.67874239999999,-72.6764883,-72.67464249999999,-72.72555559999999,-72.7136593,-72.66328589999999,-72.7338406,-72.69943529999999,-72.677542,-72.68892579999999,-72.6736746,-72.61755910000001,-72.6665319,-72.6921249,-72.6867324,-72.715455,-72.6729242,-72.6870802,-72.61978959999999,-72.7161873,-72.6748784,-72.7177778,-72.7326667,-72.7228119,-72.7268723,-72.66189,-72.6647868,-72.7609184],\"marker\":{\"color\":\"yellow\",\"size\":[4.5,2.5,4.5,3.5,4.5,4.5,3.0,4.0,4.5,3.5,4.0,4.5,3.5,3.5,3.5,3.0,4.5,3.0,3.0,3.0,1.0,2.5,1.5,2.5,1.5,2.0,2.0,1.5,3.0,1.0,3.5,3.0,4.0,4.0,4.0,4.0,2.5,3.0,2.5,3.0,3.0,3.0,3.5,3.5,2.5,3.5,4.0,3.5,4.0,4.0,4.0,1.5,4.5,2.5,1.5,4.5,4.0,3.0,3.5,3.5,4.5,4.0,2.5,3.5,4.5,3.0,2.0,3.5,2.5,4.0,4.5,3.5,4.0,3.5,4.0],\"sizemode\":\"area\",\"sizeref\":0.05},\"mode\":\"markers\",\"name\":\"Under $10\",\"showlegend\":true,\"subplot\":\"mapbox\",\"type\":\"scattermapbox\"},{\"customdata\":[[\"https://s3-media3.fl.yelpcdn.com/bphoto/hUCIrBcAH61s-irRDzpTGw/o.jpg\"],[\"https://s3-media2.fl.yelpcdn.com/bphoto/jLEA1ovuwaMTFjbWc4JrKA/o.jpg\"],[\"https://s3-media1.fl.yelpcdn.com/bphoto/0O7tsBWEUudSMEJd0WUHgQ/o.jpg\"],[\"https://s3-media3.fl.yelpcdn.com/bphoto/hBxlOg3DDj9_Xze8-RV2gw/o.jpg\"],[\"https://s3-media3.fl.yelpcdn.com/bphoto/FiEbhIqFNrIVvgxLemskOw/o.jpg\"],[\"https://s3-media2.fl.yelpcdn.com/bphoto/aD1sgjb9f8f6ImyT49gQ6g/o.jpg\"],[\"https://s3-media4.fl.yelpcdn.com/bphoto/tzZOoFL5bhnikzP-xixDzg/o.jpg\"],[\"https://s3-media3.fl.yelpcdn.com/bphoto/R-T2sPDusL93F2nG2RHC-Q/o.jpg\"],[\"https://s3-media2.fl.yelpcdn.com/bphoto/6QdZt4_gIi_2wohLcrTbqg/o.jpg\"],[\"https://s3-media2.fl.yelpcdn.com/bphoto/mixWfwrUbKN5NltU_3Kz3A/o.jpg\"],[\"https://s3-media2.fl.yelpcdn.com/bphoto/Xzgd8xI09UhPPreE7aleNg/o.jpg\"],[\"https://s3-media1.fl.yelpcdn.com/bphoto/8IvsXDwgMLnxQJPggPGodA/o.jpg\"],[\"https://s3-media1.fl.yelpcdn.com/bphoto/-Vc-ZqAvou786W7qnMZbdw/o.jpg\"],[\"https://s3-media3.fl.yelpcdn.com/bphoto/j3LBBGgJl_s4LjDmzQYL4A/o.jpg\"],[\"https://s3-media4.fl.yelpcdn.com/bphoto/P8Eh5MaZprMNSo5H4Z47Sw/o.jpg\"],[\"https://s3-media2.fl.yelpcdn.com/bphoto/S9VKMA8HaUaopbNFaOy04A/o.jpg\"],[\"https://s3-media1.fl.yelpcdn.com/bphoto/_Tm-8p2BJktASF0nnPDokQ/o.jpg\"],[\"https://s3-media2.fl.yelpcdn.com/bphoto/V1XgRLiy79K4qMiFCVR8Sw/o.jpg\"],[\"https://s3-media1.fl.yelpcdn.com/bphoto/fhKkBCcg4Z5p4pwV9nCoiA/o.jpg\"],[\"https://s3-media2.fl.yelpcdn.com/bphoto/UMxpIG2IW61bShBmDABihA/o.jpg\"],[\"https://s3-media2.fl.yelpcdn.com/bphoto/e5LF7lqtMYYg9n-luXgv-A/o.jpg\"],[\"https://s3-media4.fl.yelpcdn.com/bphoto/mWGJirG01KUybHmYtO1uiA/o.jpg\"],[\"https://s3-media2.fl.yelpcdn.com/bphoto/KxY07VxKUFugReqElnd5Gg/o.jpg\"],[\"https://s3-media1.fl.yelpcdn.com/bphoto/gm-1VK3aZrCl-z6pgdGhWw/o.jpg\"],[\"https://s3-media4.fl.yelpcdn.com/bphoto/5ndqLkCI8GIiV2jXwQim6A/o.jpg\"],[\"https://s3-media3.fl.yelpcdn.com/bphoto/7dnT7Y6HrGblrJqiTQFuSg/o.jpg\"],[\"https://s3-media2.fl.yelpcdn.com/bphoto/LXkUo7yH-Bg9nCQylM30qQ/o.jpg\"],[\"https://s3-media4.fl.yelpcdn.com/bphoto/isUWKj-yq8XvZanW6f5Kmg/o.jpg\"],[\"https://s3-media1.fl.yelpcdn.com/bphoto/8CFNASUaJg_Mjfmkj-AV4w/o.jpg\"],[\"https://s3-media3.fl.yelpcdn.com/bphoto/GlgJDeKntGt8UXhi9BzkAg/o.jpg\"],[\"https://s3-media3.fl.yelpcdn.com/bphoto/k_CN0LNnE7MhjL7RP_MvVg/o.jpg\"],[\"https://s3-media4.fl.yelpcdn.com/bphoto/BFZvhq6Ms51HwMiss2TzSg/o.jpg\"],[\"https://s3-media1.fl.yelpcdn.com/bphoto/RhvbdxcphbKThT7_vfWCoQ/o.jpg\"],[\"https://s3-media2.fl.yelpcdn.com/bphoto/Rv_Gp6eAawQGNrCeDc7Z3g/o.jpg\"],[\"https://s3-media2.fl.yelpcdn.com/bphoto/3apQi9rJ5LG2ql6E45Evcw/o.jpg\"],[\"https://s3-media2.fl.yelpcdn.com/bphoto/vfHn_4gFAfzuRCiBybs5rw/o.jpg\"],[\"https://s3-media3.fl.yelpcdn.com/bphoto/utkl4SNy-uxfbsSEkGDBAg/o.jpg\"],[\"https://s3-media2.fl.yelpcdn.com/bphoto/VVftuxd1ISOEJDUVzWFNiA/o.jpg\"],[\"https://s3-media3.fl.yelpcdn.com/bphoto/wCpgvtf0h-7YGTrWDxlvrg/o.jpg\"],[\"https://s3-media4.fl.yelpcdn.com/bphoto/-tMPb_lhFBKh9XnEST3Z6Q/o.jpg\"],[\"https://s3-media3.fl.yelpcdn.com/bphoto/X2b4WFFSdV-rQFcC0thnOg/o.jpg\"],[\"https://s3-media2.fl.yelpcdn.com/bphoto/zL3inqDC7ATSfPM70T95Ig/o.jpg\"],[\"https://s3-media1.fl.yelpcdn.com/bphoto/Hf0ZQNXaCg6tdrZ_dENLvw/o.jpg\"],[\"https://s3-media1.fl.yelpcdn.com/bphoto/qbavarX08-v6_-yqIqXgsg/o.jpg\"],[\"https://s3-media4.fl.yelpcdn.com/bphoto/Dp6CbZ5aXhPYL8KZodMaeA/o.jpg\"],[\"https://s3-media1.fl.yelpcdn.com/bphoto/80yyxdy-JMAolro7J2DwzQ/o.jpg\"],[\"https://s3-media3.fl.yelpcdn.com/bphoto/HCCBEFj4nbRJ-ExVXcBvVg/o.jpg\"],[\"https://s3-media3.fl.yelpcdn.com/bphoto/z5yI-RADNys89jGgNCIK-Q/o.jpg\"],[\"https://s3-media3.fl.yelpcdn.com/bphoto/7h5mTEBJOZlnRKI2Y3Oa1g/o.jpg\"],[\"https://s3-media3.fl.yelpcdn.com/bphoto/jdw7zQv8Zo8sQgVCw1tO_Q/o.jpg\"],[\"https://s3-media1.fl.yelpcdn.com/bphoto/gOkmxgp-uWtb8d3CG66-qA/o.jpg\"],[\"https://s3-media2.fl.yelpcdn.com/bphoto/29fngeNC5YeIy8CYepeJhw/o.jpg\"],[\"https://s3-media2.fl.yelpcdn.com/bphoto/o8PicXH3-Jxi9VjpVQHEZw/o.jpg\"],[\"https://s3-media1.fl.yelpcdn.com/bphoto/uT_Li60EybhQWH0v7EYGDQ/o.jpg\"],[\"https://s3-media2.fl.yelpcdn.com/bphoto/L_XT1ZndmjeAbiI878xnrg/o.jpg\"],[\"https://s3-media1.fl.yelpcdn.com/bphoto/U7Y3FXBxFHINdPnTD6cNDg/o.jpg\"],[\"https://s3-media1.fl.yelpcdn.com/bphoto/Xe_1BP1SfWq5KLzd_uYg1A/o.jpg\"],[\"https://s3-media3.fl.yelpcdn.com/bphoto/Tw0rigN6x_wFBfHxlZ4xjw/o.jpg\"],[\"https://s3-media2.fl.yelpcdn.com/bphoto/q2_J9990snJv1hz4uVAb-A/o.jpg\"],[\"https://s3-media1.fl.yelpcdn.com/bphoto/-ax9zEGt6mmgvFbwxAYD4Q/o.jpg\"],[\"https://s3-media1.fl.yelpcdn.com/bphoto/lhn5P5bdt1Tft92SFaASWQ/o.jpg\"],[\"https://s3-media2.fl.yelpcdn.com/bphoto/HfEp2fWGdTkQqaQhHpqRVg/o.jpg\"],[\"https://s3-media2.fl.yelpcdn.com/bphoto/wvEE-rc4ZYz06iTtmkL2VA/o.jpg\"],[\"https://s3-media4.fl.yelpcdn.com/bphoto/Iov8cPfyBls46roD9r3Rog/o.jpg\"],[\"https://s3-media2.fl.yelpcdn.com/bphoto/eF2CtFdmYZ9TEYamWFQQMA/o.jpg\"],[\"https://s3-media2.fl.yelpcdn.com/bphoto/AArjycnPUsmCj6mfx8uhkQ/o.jpg\"],[\"https://s3-media1.fl.yelpcdn.com/bphoto/HhsAbmDWyxYxxoctlMKuhg/o.jpg\"],[\"https://s3-media2.fl.yelpcdn.com/bphoto/ZNekyE93b1vOzXcba2x1uw/o.jpg\"],[\"https://s3-media4.fl.yelpcdn.com/bphoto/MaQsGdVncTlUefZqG6gq2Q/o.jpg\"],[\"https://s3-media3.fl.yelpcdn.com/bphoto/FwdN0v99SbdXnZNp7DF46A/o.jpg\"],[\"https://s3-media1.fl.yelpcdn.com/bphoto/ul8kXLVaJ1m3l_BGqc2Nog/o.jpg\"],[\"https://s3-media1.fl.yelpcdn.com/bphoto/LuHmzdPzgrU3HVcin9erug/o.jpg\"],[\"https://s3-media2.fl.yelpcdn.com/bphoto/u0YiSMerPeqUOYxLOrllyg/o.jpg\"],[\"https://s3-media2.fl.yelpcdn.com/bphoto/3VnVRac2r8CJRjjNND3yYw/o.jpg\"],[\"https://s3-media2.fl.yelpcdn.com/bphoto/sQrloCG_r1Mbu9JlXGI7Qg/o.jpg\"],[\"https://s3-media2.fl.yelpcdn.com/bphoto/gWzhBfTtR4y9OjEY090hDQ/o.jpg\"],[\"https://s3-media2.fl.yelpcdn.com/bphoto/YyPIbOSum01GGyv0TJRVdg/o.jpg\"],[\"https://s3-media3.fl.yelpcdn.com/bphoto/BsKWgHQkZrk-MU7oAUp2XA/o.jpg\"],[\"https://s3-media2.fl.yelpcdn.com/bphoto/xsfCAQL0015rBBT99TL1WQ/o.jpg\"],[\"https://s3-media1.fl.yelpcdn.com/bphoto/Up4B4uHfukeko7xzgPJ5DA/o.jpg\"],[\"https://s3-media1.fl.yelpcdn.com/bphoto/Mz5VgzDuY7pt33PgccaM2w/o.jpg\"],[\"https://s3-media1.fl.yelpcdn.com/bphoto/gCnIyhI0-Cyy47cMUN7l1Q/o.jpg\"],[\"https://s3-media1.fl.yelpcdn.com/bphoto/akAhN130Yelma1WtSOI2sA/o.jpg\"],[\"https://s3-media3.fl.yelpcdn.com/bphoto/01GVRWdZLCESmTt3WPh2JA/o.jpg\"]],\"hovertemplate\":\"<b>%{hovertext}</b><br><br>price_labels=$11-30<br>rating=%{marker.size}<br>latitudes=%{lat}<br>longitudes=%{lon}<br>image_url=%{customdata[0]}<extra></extra>\",\"hovertext\":[\"451 Restaurant & Lounge, 341 Franklin Ave, Hartford, CT 06114, \",\"50 Elm, 50 Elm St, Hartford, CT 06106, \",\"99 Restaurants, 3025 Main St, Glastonbury, CT 06033, \",\"A-1 Pizza, 274 Farmington Ave, Hartford, CT 06105, \",\"AC Petersen Farms, 240 Park Rd, West Hartford, CT 06119, \",\"Agave Grill, 100 Allyn St, Hartford, CT 06103, \",\"Andrea's Restaurante, 371 Franklin Ave, Hartford, CT 06114, \",\"Angry Tofu Korean Cuisine, 1030 Silas Deane Hwy, Wethersfield, CT 06109, \",\"Arch Street Tavern, 85 Arch St, Hartford, CT 06103, \",\"Arena Patio Restaurant, 873 Wethersfield Ave, Hartford, CT 06114, \",\"Artichoke Basille\\u2019s Pizza, 114 Asylum St, Hartford, CT 06103, \",\"Arugula, 953 Farmington Ave, West Hartford, CT 06107, \",\"Asia 2000 Chinese Restaurant, 520 Windsor Ave, Windsor, CT 06095, \",\"Atrium Caf\\u00e9 and Bar, 100 Great Meadow Rd, Wethersfield, CT 06109, \",\"Au Bon Pain, 80 Seymour St, Hartford Hospital, Hartford, CT 06106\",\"Au Bon Pain, 114 Woodland St, Hartford, CT 06105, \",\"a'VERT Brasserie, 35 A Lasalle Rd, West Hartford, CT 06107, \",\"B.GOOD, 140 Glastonbury Blvd, Glastonbury, CT 06033, \",\"Banana Brazil, 341 New Park Ave, Hartford, CT 06106, \",\"bartaco - West Hartford, 971 Farmington Ave, West Hartford, CT 06107, \",\"Beachland Tavern, 1128 New Britain Ave, West Hartford, CT 06110, \",\"Bear's Smokehouse Barbecue, 25 Front St, Hartford, CT 06103, \",\"Bertucci's Italian Restaurant, 2882 Main St, Glastonbury, CT 06033, \",\"Bijou Restaurant, 9 Heath St, Hartford, CT 06106, \",\"Bin228 Panini & Wine Bar, 228 Pearl St, Hartford, CT 06103, \",\"Black Bamboo Chinese Restaurant, 844 Farmington Ave, West Hartford, CT 06119, \",\"Black-Eyed Sally's, 350 Asylum St, Hartford, CT 06103, \",\"Blue Plate Kitchen, 345 N Main St, West Hartford, CT 06117, \",\"Blue State Coffee, 777 Main St, Hartford, CT 06103, \",\"Bombay Olive, 450 S Main St, West Hartford, CT 06110, \",\"Brazil Grill, 1996 Park St, Hartford, CT 06106, \",\"Brooklyn Ramen, 37 Raymond Rd, Maruichi Japanese Food & Deli, West Hartford, CT 06107\",\"Butterfly Restaurant, 831 Farmington Ave, West Hartford, CT 06119, \",\"Campus Pizza, 1258 Broad St, Hartford, CT 06106, \",\"Capitol View Deli, 628 Asylum Ave, Hartford, CT 06105, \",\"Caral Lounge, 1429 Park St, Hartford, CT 06106, \",\"Carbone's Kitchen, 6 Wintonbury Ave, Bloomfield, CT 06002, \",\"Caribe Restaurant, 686 Park St, Hartford, CT 06106, \",\"Carl's BBQ & Jerk, 285 Silver Ln, East Hartford, CT 06118, \",\"Carmine's Bar, Grill & Stage, 389 Main St, East Hartford, CT 06118, \",\"Casona Restaurant, 681 Wethersfield Ave, Hartford, CT 06114, \",\"Cavros Pizzeria, 184 Main St, East Hartford, CT 06118, \",\"Chang Jiang Chinese Restaurant, 112 Main St, East Hartford, CT 06118, \",\"Chili's, 2855 Main St, Glastonbury, CT 06033, \",\"City Pizza, 498 Farmington Ave, Hartford, CT 06105, \",\"Concetta's Italian Restaurant, 22 Mountain Ave, Bloomfield, CT 06002, \",\"Cookshop Plus, 60 LaSalle Rd, West Hartford, CT 06107, \",\"Cora Cora, 162 Shield St, West Hartford, CT 06110, \",\"Coyote Flaco Mexican Food, 635 New Britain Ave, Hartford, CT 06106, \",\"Dhaba Wala Indian Kitchen, 49 Asylum St, Hartford, CT 06103, \",\"Dino's Pizzeria, 439 New Park Ave, West Hartford, CT 06110, \",\"Division West Bistro & Bar, 36 LaSalle Rd, West Hartford, CT 06107, \",\"Dunns River Restaurant, 2996 Main St, Hartford, CT 06120, \",\"Eastern, 69 John Fitch Blvd, South Windsor, CT 06074, \",\"Edoichi Sushi & Hibachi Steak House, 580 Silas Deane Hwy, Wethersfield, CT 06109, \",\"Effie's Place, 91 Park Rd, West Hartford, CT 06119, \",\"El Nuevo Sarape Restaurant, 931 Broad St, Hartford, CT 06106, \",\"El Pollo Guapo, 26 Front St, Hartford, CT 06103, \",\"El Pollo Guapo, 1866 Berlin Turnpike, Wethersfield, CT 06109, \",\"Elaine's, 1841 Berlin Tpke, Wethersfield, CT 06109, \",\"Elizabeth's Bar & Restaurant in Bloomfield, 774 Park Ave, Bloomfield, CT 06002, \",\"Elmwood Pizza & Grinders, 1154 New Britain Ave, West Hartford, CT 06110, \",\"Empire Pizza House, 861 New Britain Ave, Hartford, CT 06106, \",\"Fat Franks & Latin Cuisine, 481 Wethersfield Ave, Hartford, CT 06114, \",\"Fernwood Restaurant, 1113 New Britain Ave, West Hartford, CT 06110, \",\"First & Last Tavern, 939 Maple Ave, Hartford, CT 06114, \",\"Five Guys, 2944 Main St, Glastonbury, CT 06033, \",\"Five Guys, 316 N Main St, West Hartford, CT 06117, \",\"Flora, 45 Raymond Rd, Fl 2nd, West Hartford, CT 06107\",\"Frank Pepe's Pizza of West Hartford, 1148 New Britian Ave, West Hartford, CT 06110, \",\"Franklin Giant Sandwich Shop, 464 Franklin Ave, Hartford, CT 06114, \",\"Frida, 1150 New Britain Ave, West Hartford, CT 06110, \",\"Friendly's, 1045 Silas Deane Hwy, Wethersfield, CT 06109, \",\"Front Street Bistro, 39 Front St, Hartford, CT 06103, \",\"George's Pizza House, 2027 Park St, Hartford, CT 06106, \",\"Gillette Ridge Restaurant, 1360 Hall Blvd, Bloomfield, CT 06002, \",\"Ginza Japanese Cuisine, 14 Wintonbury Mall, Bloomfield, CT 06002, \",\"Golden Krust Caribbean Restaurant, 1170 Albany Ave, Hartford, CT 06112, \",\"Gourmet Wok, 2856 Main St, Glastonbury, CT 06033, \",\"G's Steaks and Grinders, 2053 Park St, Hartford, CT 06106, \",\"Han Restaurant, 310 Prospect Ave, Hartford, CT 06106, \",\"Harry's Bishops Corner, 732 N Main St, West Hartford, CT 06117, \",\"Harry's Pizza, 39 S Main St, West Hartford, CT 06107, \",\"Hartford Baking Co, 625 New Park Ave, West Hartford, CT 06110, \"],\"lat\":[41.7406653,41.7623049,41.7265545,41.7679391,41.7576647,41.7684972,41.7397631,41.6942659,41.7617649,41.73201359999999,41.76721209999999,41.7615591,41.8200941,41.7139144,41.7543354,41.7745877,41.7603606,41.720303,41.7468756,41.7613278,41.7332284,41.7626991,41.7218843,41.7568085,41.7666355,41.7644057,41.7676819,41.7846583,41.7661999,41.73210599999999,41.756486,41.7611788,41.7640333,41.7521303,41.768559,41.7572222,41.8314507,41.7582916,41.7619557,41.7484486,41.7372736,41.736309,41.7325927,41.721303,41.7668818,41.8315772,41.75992129999999,41.72868709999999,41.73359,41.7665619,41.7436794,41.76032,41.7931612,41.8012975,41.7096141,41.7571011,41.7566962,41.762997,41.703052,41.7042062,41.8291776,41.732816,41.7317656,41.7426897,41.73220329999999,41.7338982,41.7241012,41.7840357,41.761114,41.73311200000001,41.7366484,41.7328702,41.6941439,41.7625339,41.755878,41.8117375,41.8310831,41.7823,41.7211861,41.7561043,41.7555336,41.7865028,41.7591,41.7329551],\"legendgroup\":\"$11-30\",\"lon\":[-72.6763087,-72.67547449999999,-72.6176026,-72.6992226,-72.72550020000001,-72.678005,-72.6761989,-72.6562205,-72.67091500000001,-72.6701982,-72.6752133,-72.7427723,-72.654951,-72.6436315,-72.6799722,-72.69849190000001,-72.7447956,-72.62095,-72.7137383,-72.7434083,-72.73245510000001,-72.6713982,-72.6138514,-72.7109481,-72.6775287,-72.732221,-72.679495,-72.7484139,-72.6735387,-72.742885,-72.7119678,-72.73977570000001,-72.7310928,-72.6868946,-72.684545,-72.7025,-72.7359002,-72.6884324,-72.6320709,-72.6384696,-72.67153189999999,-72.6280469,-72.62392779999999,-72.61507,-72.7082028,-72.7416661,-72.7442051,-72.7208117,-72.7020988,-72.6743379,-72.7160686,-72.7443182,-72.6661105,-72.6180912,-72.6621498,-72.71889469999999,-72.687409,-72.67126999999999,-72.7020613,-72.7030394,-72.732044,-72.734914,-72.71225609999999,-72.67298780000002,-72.7312484,-72.6878615,-72.6147242,-72.74544399999999,-72.73968839999999,-72.73368359999999,-72.6748691,-72.7347628,-72.6576632,-72.6703967,-72.712777,-72.74382829999999,-72.7362105,-72.6958403,-72.6139093,-72.7133128,-72.7143598,-72.7464294,-72.7430114,-72.7243594],\"marker\":{\"color\":\"orange\",\"size\":[3.5,4.0,3.0,3.0,3.0,3.5,3.5,4.5,3.0,3.5,4.0,4.0,2.5,4.0,3.0,3.0,4.0,3.5,4.5,4.0,4.0,4.0,2.5,4.5,4.0,4.0,4.0,3.5,4.0,3.5,4.0,4.0,3.0,2.0,2.0,1.5,3.5,4.0,4.5,4.5,3.0,3.5,3.5,2.5,3.5,3.0,4.5,4.5,3.5,4.0,4.0,4.0,4.0,2.0,4.5,3.5,4.0,4.5,4.5,3.0,3.5,3.0,3.0,2.5,3.5,3.5,3.0,3.5,4.5,3.5,3.5,3.5,1.5,3.5,4.0,3.5,4.0,3.0,3.0,4.5,4.0,4.5,4.0,4.0],\"sizemode\":\"area\",\"sizeref\":0.05},\"mode\":\"markers\",\"name\":\"$11-30\",\"showlegend\":true,\"subplot\":\"mapbox\",\"type\":\"scattermapbox\"},{\"customdata\":[[\"https://s3-media2.fl.yelpcdn.com/bphoto/qtrJF5qxqLM-ybg-UTuhcg/o.jpg\"],[\"https://s3-media3.fl.yelpcdn.com/bphoto/yIZOPOXmVX6Ox2aR-iD2Bw/o.jpg\"],[\"https://s3-media1.fl.yelpcdn.com/bphoto/vguvoFtqgx3qsBZ4qoUCmQ/o.jpg\"],[\"https://s3-media3.fl.yelpcdn.com/bphoto/rxMQZtHXiBgG5wP1Kpv9lw/o.jpg\"],[\"https://s3-media2.fl.yelpcdn.com/bphoto/Dpt2H5eP9Z_p72hmY6pPrg/o.jpg\"],[\"https://s3-media3.fl.yelpcdn.com/bphoto/HoD4f6ngWYYdI0p8NXkUgA/o.jpg\"],[\"https://s3-media3.fl.yelpcdn.com/bphoto/6T9IjFQhbpYIbvoaRo45Rg/o.jpg\"],[\"https://s3-media2.fl.yelpcdn.com/bphoto/Q8mmrQ6CnAn-7VSHQgZ8tw/o.jpg\"],[\"https://s3-media3.fl.yelpcdn.com/bphoto/SHtOFKt-6hMpxXQwMeicHw/o.jpg\"]],\"hovertemplate\":\"<b>%{hovertext}</b><br><br>price_labels=Over $31<br>rating=%{marker.size}<br>latitudes=%{lat}<br>longitudes=%{lon}<br>image_url=%{customdata[0]}<extra></extra>\",\"hovertext\":[\"Antojitos Colombianos, 704 Park St, Hartford, CT 06106, \",\"Artisan Restaurant, 1 Memorial Rd, West Hartford, CT 06107, \",\"Barcelona - West Hartford, 971 Farmington Ave, West Hartford, CT 06107, \",\"Carbone's Ristorante, 588 Franklin Ave, Hartford, CT 06114, \",\"Dish Bar & Grill, 900 Main St, Hartford, CT 06103, \",\"Empire Pizza, 109 Lowrey Pl, Newington, CT 06111, \",\"Firebox Restaurant, 539 Broad St, Hartford, CT 06106, \",\"Fleming\\u2019s Prime Steakhouse & Wine Bar, 44 S Main St, West Hartford, CT 06107, \",\"Francesco's Ristorante, 318 Franklin Ave, Hartford, CT 06114, \"],\"lat\":[41.7582741,41.7595038,41.7611968,41.7325057,41.7673897,41.6945658,41.7621984,41.76017299999999,41.74162279999999],\"legendgroup\":\"Over $31\",\"lon\":[-72.6890052,-72.7389273,-72.7431745,-72.674179,-72.67285989999999,-72.7202386,-72.6870225,-72.74155,-72.67567500000001],\"marker\":{\"color\":\"red\",\"size\":[4.5,3.5,4.5,4.0,3.5,2.0,4.0,4.0,3.0],\"sizemode\":\"area\",\"sizeref\":0.05},\"mode\":\"markers\",\"name\":\"Over $31\",\"showlegend\":true,\"subplot\":\"mapbox\",\"type\":\"scattermapbox\"},{\"customdata\":[[\"https://s3-media2.fl.yelpcdn.com/bphoto/WJo0np_R4UgQa-PLb7GiYA/o.jpg\"],[\"https://s3-media2.fl.yelpcdn.com/bphoto/ADaZAii0B3yOxRXVPiK7Tg/o.jpg\"],[\"https://s3-media4.fl.yelpcdn.com/bphoto/3ktqVZmF8UielAyyLFrCHQ/o.jpg\"],[\"https://s3-media3.fl.yelpcdn.com/bphoto/oK0iF6g7rC8QO38eMSYuSg/o.jpg\"],[\"https://s3-media4.fl.yelpcdn.com/bphoto/jvqpfgiKA4kRK13WieRewQ/o.jpg\"],[null],[\"https://s3-media1.fl.yelpcdn.com/bphoto/u_CuSI4kZVV_P0Vil-LSbg/o.jpg\"],[\"https://s3-media4.fl.yelpcdn.com/bphoto/Vzsm_qWONw-pSdPK3mY_-g/o.jpg\"],[\"https://s3-media1.fl.yelpcdn.com/bphoto/XujOasoVspXXAXzXRg4EWw/o.jpg\"],[\"https://s3-media3.fl.yelpcdn.com/bphoto/n7F5BZVGcKDzaNVNtS1Z4Q/o.jpg\"],[null],[\"https://s3-media2.fl.yelpcdn.com/bphoto/oWGQ6TTb5enH5DoB-VYCeg/o.jpg\"],[\"https://s3-media3.fl.yelpcdn.com/bphoto/zCVpAojCDc5erJOeeyBtVg/o.jpg\"],[null],[\"https://s3-media4.fl.yelpcdn.com/bphoto/xq9HXOde_i879sU6dLKhog/o.jpg\"],[\"https://s3-media4.fl.yelpcdn.com/bphoto/NPmsKtV1MQ1CZfLfPOkJLw/o.jpg\"],[\"https://s3-media2.fl.yelpcdn.com/bphoto/jxGqG-I9WJeMut5H2L7zow/o.jpg\"],[\"https://s3-media1.fl.yelpcdn.com/bphoto/t2Nueq63rhV75HdX9kc-hQ/o.jpg\"],[\"https://s3-media3.fl.yelpcdn.com/bphoto/Mh2HdfSUQU7ssjHuX1cqjA/o.jpg\"],[\"https://s3-media1.fl.yelpcdn.com/bphoto/j-jggBh3IBO9T2ufyhxgsg/o.jpg\"],[\"https://s3-media2.fl.yelpcdn.com/bphoto/noD3bbRqNHPTvr0VLIe-vg/o.jpg\"],[null],[\"https://s3-media4.fl.yelpcdn.com/bphoto/smwgWMj2gtSs3ZvJfQiuDQ/o.jpg\"],[\"https://s3-media2.fl.yelpcdn.com/bphoto/simBy0XxUFgQhkJ2bXc5UA/o.jpg\"],[\"https://s3-media1.fl.yelpcdn.com/bphoto/LvOsxjy8pxk2GCc5Nnzp1A/o.jpg\"],[\"https://s3-media2.fl.yelpcdn.com/bphoto/BTDDTo24oWTfo-Agn4it_A/o.jpg\"],[\"https://s3-media2.fl.yelpcdn.com/bphoto/CuQHxO5eXu0x9kW7bLl9BA/o.jpg\"],[\"https://s3-media2.fl.yelpcdn.com/bphoto/0iEMyms0E7S1RdZCUr44cw/o.jpg\"],[null],[\"https://s3-media3.fl.yelpcdn.com/bphoto/0umPJGPhbqqHyKhFqquJXw/o.jpg\"],[\"https://s3-media1.fl.yelpcdn.com/bphoto/bAgAocm_YEz5c4Z7Lt-Klw/o.jpg\"]],\"hovertemplate\":\"<b>%{hovertext}</b><br><br>price_labels=Other<br>rating=%{marker.size}<br>latitudes=%{lat}<br>longitudes=%{lon}<br>image_url=%{customdata[0]}<extra></extra>\",\"hovertext\":[\"1000 Degrees Pizza, 2941 Main St, Glastonbury, CT 06033, \",\"Alpha Original Pizza, 620 Silas Deane Hwy, Wethersfield, CT 06109, \",\"Baltyk European Deli, 731 Wethersfield Ave, Hartford, CT 06114, \",\"Bangkok Spice, 77 Pratt St, Hartford, CT 06103, \",\"Barb's Pizza, 968 Farmington Ave, West Hartford, CT 06107, \",\"Bellie's Grille & Catering, 77 Barbour St, Hartford, CT 06120, \",\"Benjie's Jamaican Restaurant, 1488 Albany Ave, Hartford, CT 06112, \",\"Bert\\u2019s Pizzaria, 264 Park Rd, West Hartford, CT 06119, \",\"Burger and Pizza Land, 295 Barbour St, Hartford, CT 06120, \",\"Carson\\u2019s Kitchen, 3155 Main St, Hartford, CT 06120, \",\"The Bar & Grill, 512 Cedar St, Newington, CT 06111, \",\"Cheek's Chicken & Waffles, 1257 Main St, East Hartford, CT 06108, \",\"Chicken City, 106 Sisson Ave, Hartford, CT 06106, \",\"China Garden, 1 New Britain Ave, Hartford, CT 06106, \",\"Choice One Pizza, 24 New Britain Ave, Hartford, CT 06106, \",\"Chosen 1 Cajun Seafood, 772 Park Ave, Bloomfield, CT 06002, \",\"Chosen 1 Cajun Seafood, 2074 Park St, Hartford, CT 06106, \",\"Connecticut Organic Pasta, 1142 New Britain Ave, West Hartford, CT 06110, \",\"DiBacco's Market, 553 Franklin Ave, Hartford, CT 06114, \",\"Dilly's Cafe, 39-41 Market Square, Newington, CT 06111, \",\"Drea's Kitchen, 99 Maple Ave, Hartford, CT 06114, \",\"Einstein Bros Bagels, 200 Bloomfield Ave, West Hartford, CT 06117, \",\"El Bajio Restaurant, 289 Franklin Ave, Hartford, CT 06114, \",\"El Poeta  de los Sandwiches, 22 Pratt St, Hartford, CT 06103, \",\"El Senor De Los Tamales, 262 Franklin Ave, Hartford, CT 06114, \",\"Feng Chophouse, 93 Asylum St, Hartford, CT 06103, \",\"Fiambrera Criolla, 881 New Britain Ave, Hartford, CT 06106, \",\"Fiddleheads Cafe, 533 Farmington Ave, Hartford, CT 06105, \",\"First & Last Tavern, Hartford, CT, , \",\"Fornarelli's Ristorante & Bar, 283 Asylum St, Hartford, CT 06103, \",\"Fuego Picante, 495 Flatbush Ave, Hartford, CT 06106, \"],\"lat\":[41.723593,41.7082238,41.7359035,41.76762009999999,41.7620356,41.7874331,41.7840206,41.7571961,41.793292,41.7946575,41.69539650000001,41.7752066,41.7612134,41.7469411,41.7470596,41.8291045,41.7563712,41.7332389,41.7335312,41.6961916,41.7535634,41.7984508,41.7424893,41.7676114,41.7436261,41.7668951,41.7317025,41.7661204,41.7338982,41.767252,41.7318351],\"legendgroup\":\"Other\",\"lon\":[-72.6153917,-72.66181,-72.6710243,-72.67470469999999,-72.74348839999999,-72.679183,-72.701683,-72.7263519,-72.67743779999999,-72.66456099999999,-72.7468902,-72.6401789,-72.70622929999999,-72.6834693,-72.68433809999999,-72.7319519,-72.7137016,-72.7332428,-72.6750893,-72.7221045,-72.6777188,-72.7137664,-72.67667089999999,-72.6736746,-72.6761599,-72.67499579999999,-72.7129436,-72.7097852,-72.6878615,-72.6784256,-72.72584619999999],\"marker\":{\"color\":\"grey\",\"size\":[3.5,3.5,5.0,4.5,4.5,5.0,3.5,4.5,1.0,4.0,5.0,3.5,4.0,4.0,2.0,3.5,3.5,5.0,4.0,4.5,3.5,2.5,4.0,2.5,5.0,4.5,1.5,4.5,3.0,4.0,4.5],\"sizemode\":\"area\",\"sizeref\":0.05},\"mode\":\"markers\",\"name\":\"Other\",\"showlegend\":true,\"subplot\":\"mapbox\",\"type\":\"scattermapbox\"}],                        {\"template\":{\"data\":{\"histogram2dcontour\":[{\"type\":\"histogram2dcontour\",\"colorbar\":{\"outlinewidth\":0,\"ticks\":\"\"},\"colorscale\":[[0.0,\"#0d0887\"],[0.1111111111111111,\"#46039f\"],[0.2222222222222222,\"#7201a8\"],[0.3333333333333333,\"#9c179e\"],[0.4444444444444444,\"#bd3786\"],[0.5555555555555556,\"#d8576b\"],[0.6666666666666666,\"#ed7953\"],[0.7777777777777778,\"#fb9f3a\"],[0.8888888888888888,\"#fdca26\"],[1.0,\"#f0f921\"]]}],\"choropleth\":[{\"type\":\"choropleth\",\"colorbar\":{\"outlinewidth\":0,\"ticks\":\"\"}}],\"histogram2d\":[{\"type\":\"histogram2d\",\"colorbar\":{\"outlinewidth\":0,\"ticks\":\"\"},\"colorscale\":[[0.0,\"#0d0887\"],[0.1111111111111111,\"#46039f\"],[0.2222222222222222,\"#7201a8\"],[0.3333333333333333,\"#9c179e\"],[0.4444444444444444,\"#bd3786\"],[0.5555555555555556,\"#d8576b\"],[0.6666666666666666,\"#ed7953\"],[0.7777777777777778,\"#fb9f3a\"],[0.8888888888888888,\"#fdca26\"],[1.0,\"#f0f921\"]]}],\"heatmap\":[{\"type\":\"heatmap\",\"colorbar\":{\"outlinewidth\":0,\"ticks\":\"\"},\"colorscale\":[[0.0,\"#0d0887\"],[0.1111111111111111,\"#46039f\"],[0.2222222222222222,\"#7201a8\"],[0.3333333333333333,\"#9c179e\"],[0.4444444444444444,\"#bd3786\"],[0.5555555555555556,\"#d8576b\"],[0.6666666666666666,\"#ed7953\"],[0.7777777777777778,\"#fb9f3a\"],[0.8888888888888888,\"#fdca26\"],[1.0,\"#f0f921\"]]}],\"heatmapgl\":[{\"type\":\"heatmapgl\",\"colorbar\":{\"outlinewidth\":0,\"ticks\":\"\"},\"colorscale\":[[0.0,\"#0d0887\"],[0.1111111111111111,\"#46039f\"],[0.2222222222222222,\"#7201a8\"],[0.3333333333333333,\"#9c179e\"],[0.4444444444444444,\"#bd3786\"],[0.5555555555555556,\"#d8576b\"],[0.6666666666666666,\"#ed7953\"],[0.7777777777777778,\"#fb9f3a\"],[0.8888888888888888,\"#fdca26\"],[1.0,\"#f0f921\"]]}],\"contourcarpet\":[{\"type\":\"contourcarpet\",\"colorbar\":{\"outlinewidth\":0,\"ticks\":\"\"}}],\"contour\":[{\"type\":\"contour\",\"colorbar\":{\"outlinewidth\":0,\"ticks\":\"\"},\"colorscale\":[[0.0,\"#0d0887\"],[0.1111111111111111,\"#46039f\"],[0.2222222222222222,\"#7201a8\"],[0.3333333333333333,\"#9c179e\"],[0.4444444444444444,\"#bd3786\"],[0.5555555555555556,\"#d8576b\"],[0.6666666666666666,\"#ed7953\"],[0.7777777777777778,\"#fb9f3a\"],[0.8888888888888888,\"#fdca26\"],[1.0,\"#f0f921\"]]}],\"surface\":[{\"type\":\"surface\",\"colorbar\":{\"outlinewidth\":0,\"ticks\":\"\"},\"colorscale\":[[0.0,\"#0d0887\"],[0.1111111111111111,\"#46039f\"],[0.2222222222222222,\"#7201a8\"],[0.3333333333333333,\"#9c179e\"],[0.4444444444444444,\"#bd3786\"],[0.5555555555555556,\"#d8576b\"],[0.6666666666666666,\"#ed7953\"],[0.7777777777777778,\"#fb9f3a\"],[0.8888888888888888,\"#fdca26\"],[1.0,\"#f0f921\"]]}],\"mesh3d\":[{\"type\":\"mesh3d\",\"colorbar\":{\"outlinewidth\":0,\"ticks\":\"\"}}],\"scatter\":[{\"fillpattern\":{\"fillmode\":\"overlay\",\"size\":10,\"solidity\":0.2},\"type\":\"scatter\"}],\"parcoords\":[{\"type\":\"parcoords\",\"line\":{\"colorbar\":{\"outlinewidth\":0,\"ticks\":\"\"}}}],\"scatterpolargl\":[{\"type\":\"scatterpolargl\",\"marker\":{\"colorbar\":{\"outlinewidth\":0,\"ticks\":\"\"}}}],\"bar\":[{\"error_x\":{\"color\":\"#2a3f5f\"},\"error_y\":{\"color\":\"#2a3f5f\"},\"marker\":{\"line\":{\"color\":\"#E5ECF6\",\"width\":0.5},\"pattern\":{\"fillmode\":\"overlay\",\"size\":10,\"solidity\":0.2}},\"type\":\"bar\"}],\"scattergeo\":[{\"type\":\"scattergeo\",\"marker\":{\"colorbar\":{\"outlinewidth\":0,\"ticks\":\"\"}}}],\"scatterpolar\":[{\"type\":\"scatterpolar\",\"marker\":{\"colorbar\":{\"outlinewidth\":0,\"ticks\":\"\"}}}],\"histogram\":[{\"marker\":{\"pattern\":{\"fillmode\":\"overlay\",\"size\":10,\"solidity\":0.2}},\"type\":\"histogram\"}],\"scattergl\":[{\"type\":\"scattergl\",\"marker\":{\"colorbar\":{\"outlinewidth\":0,\"ticks\":\"\"}}}],\"scatter3d\":[{\"type\":\"scatter3d\",\"line\":{\"colorbar\":{\"outlinewidth\":0,\"ticks\":\"\"}},\"marker\":{\"colorbar\":{\"outlinewidth\":0,\"ticks\":\"\"}}}],\"scattermapbox\":[{\"type\":\"scattermapbox\",\"marker\":{\"colorbar\":{\"outlinewidth\":0,\"ticks\":\"\"}}}],\"scatterternary\":[{\"type\":\"scatterternary\",\"marker\":{\"colorbar\":{\"outlinewidth\":0,\"ticks\":\"\"}}}],\"scattercarpet\":[{\"type\":\"scattercarpet\",\"marker\":{\"colorbar\":{\"outlinewidth\":0,\"ticks\":\"\"}}}],\"carpet\":[{\"aaxis\":{\"endlinecolor\":\"#2a3f5f\",\"gridcolor\":\"white\",\"linecolor\":\"white\",\"minorgridcolor\":\"white\",\"startlinecolor\":\"#2a3f5f\"},\"baxis\":{\"endlinecolor\":\"#2a3f5f\",\"gridcolor\":\"white\",\"linecolor\":\"white\",\"minorgridcolor\":\"white\",\"startlinecolor\":\"#2a3f5f\"},\"type\":\"carpet\"}],\"table\":[{\"cells\":{\"fill\":{\"color\":\"#EBF0F8\"},\"line\":{\"color\":\"white\"}},\"header\":{\"fill\":{\"color\":\"#C8D4E3\"},\"line\":{\"color\":\"white\"}},\"type\":\"table\"}],\"barpolar\":[{\"marker\":{\"line\":{\"color\":\"#E5ECF6\",\"width\":0.5},\"pattern\":{\"fillmode\":\"overlay\",\"size\":10,\"solidity\":0.2}},\"type\":\"barpolar\"}],\"pie\":[{\"automargin\":true,\"type\":\"pie\"}]},\"layout\":{\"autotypenumbers\":\"strict\",\"colorway\":[\"#636efa\",\"#EF553B\",\"#00cc96\",\"#ab63fa\",\"#FFA15A\",\"#19d3f3\",\"#FF6692\",\"#B6E880\",\"#FF97FF\",\"#FECB52\"],\"font\":{\"color\":\"#2a3f5f\"},\"hovermode\":\"closest\",\"hoverlabel\":{\"align\":\"left\"},\"paper_bgcolor\":\"white\",\"plot_bgcolor\":\"#E5ECF6\",\"polar\":{\"bgcolor\":\"#E5ECF6\",\"angularaxis\":{\"gridcolor\":\"white\",\"linecolor\":\"white\",\"ticks\":\"\"},\"radialaxis\":{\"gridcolor\":\"white\",\"linecolor\":\"white\",\"ticks\":\"\"}},\"ternary\":{\"bgcolor\":\"#E5ECF6\",\"aaxis\":{\"gridcolor\":\"white\",\"linecolor\":\"white\",\"ticks\":\"\"},\"baxis\":{\"gridcolor\":\"white\",\"linecolor\":\"white\",\"ticks\":\"\"},\"caxis\":{\"gridcolor\":\"white\",\"linecolor\":\"white\",\"ticks\":\"\"}},\"coloraxis\":{\"colorbar\":{\"outlinewidth\":0,\"ticks\":\"\"}},\"colorscale\":{\"sequential\":[[0.0,\"#0d0887\"],[0.1111111111111111,\"#46039f\"],[0.2222222222222222,\"#7201a8\"],[0.3333333333333333,\"#9c179e\"],[0.4444444444444444,\"#bd3786\"],[0.5555555555555556,\"#d8576b\"],[0.6666666666666666,\"#ed7953\"],[0.7777777777777778,\"#fb9f3a\"],[0.8888888888888888,\"#fdca26\"],[1.0,\"#f0f921\"]],\"sequentialminus\":[[0.0,\"#0d0887\"],[0.1111111111111111,\"#46039f\"],[0.2222222222222222,\"#7201a8\"],[0.3333333333333333,\"#9c179e\"],[0.4444444444444444,\"#bd3786\"],[0.5555555555555556,\"#d8576b\"],[0.6666666666666666,\"#ed7953\"],[0.7777777777777778,\"#fb9f3a\"],[0.8888888888888888,\"#fdca26\"],[1.0,\"#f0f921\"]],\"diverging\":[[0,\"#8e0152\"],[0.1,\"#c51b7d\"],[0.2,\"#de77ae\"],[0.3,\"#f1b6da\"],[0.4,\"#fde0ef\"],[0.5,\"#f7f7f7\"],[0.6,\"#e6f5d0\"],[0.7,\"#b8e186\"],[0.8,\"#7fbc41\"],[0.9,\"#4d9221\"],[1,\"#276419\"]]},\"xaxis\":{\"gridcolor\":\"white\",\"linecolor\":\"white\",\"ticks\":\"\",\"title\":{\"standoff\":15},\"zerolinecolor\":\"white\",\"automargin\":true,\"zerolinewidth\":2},\"yaxis\":{\"gridcolor\":\"white\",\"linecolor\":\"white\",\"ticks\":\"\",\"title\":{\"standoff\":15},\"zerolinecolor\":\"white\",\"automargin\":true,\"zerolinewidth\":2},\"scene\":{\"xaxis\":{\"backgroundcolor\":\"#E5ECF6\",\"gridcolor\":\"white\",\"linecolor\":\"white\",\"showbackground\":true,\"ticks\":\"\",\"zerolinecolor\":\"white\",\"gridwidth\":2},\"yaxis\":{\"backgroundcolor\":\"#E5ECF6\",\"gridcolor\":\"white\",\"linecolor\":\"white\",\"showbackground\":true,\"ticks\":\"\",\"zerolinecolor\":\"white\",\"gridwidth\":2},\"zaxis\":{\"backgroundcolor\":\"#E5ECF6\",\"gridcolor\":\"white\",\"linecolor\":\"white\",\"showbackground\":true,\"ticks\":\"\",\"zerolinecolor\":\"white\",\"gridwidth\":2}},\"shapedefaults\":{\"line\":{\"color\":\"#2a3f5f\"}},\"annotationdefaults\":{\"arrowcolor\":\"#2a3f5f\",\"arrowhead\":0,\"arrowwidth\":1},\"geo\":{\"bgcolor\":\"white\",\"landcolor\":\"#E5ECF6\",\"subunitcolor\":\"white\",\"showland\":true,\"showlakes\":true,\"lakecolor\":\"white\"},\"title\":{\"x\":0.05},\"mapbox\":{\"style\":\"light\"}}},\"mapbox\":{\"domain\":{\"x\":[0.0,1.0],\"y\":[0.0,1.0]},\"center\":{\"lat\":41.75304865025126,\"lon\":-72.69066756683416},\"zoom\":10,\"style\":\"dark\",\"accesstoken\":\"pk.eyJ1IjoiYWNzMTQwMDciLCJhIjoiY2pnODZwb2R2M2QzcTJxcXBwOGgzc3V4dCJ9.E1viXuoWh7rr9Zi5Bwa9TA\"},\"legend\":{\"title\":{\"text\":\"Price\"},\"tracegroupgap\":0,\"itemsizing\":\"constant\",\"orientation\":\"h\",\"yanchor\":\"bottom\",\"y\":1.02,\"xanchor\":\"right\",\"x\":1},\"margin\":{\"t\":60}},                        {\"responsive\": true}                    ).then(function(){\n                            \nvar gd = document.getElementById('f7f4f47b-ca56-482d-802a-966ff0bfaa3d');\nvar x = new MutationObserver(function (mutations, observer) {{\n        var display = window.getComputedStyle(gd).display;\n        if (!display || display === 'none') {{\n            console.log([gd, 'removed!']);\n            Plotly.purge(gd);\n            observer.disconnect();\n        }}\n}});\n\n// Listen for the removal of the full notebook cells\nvar notebookContainer = gd.closest('#notebook-container');\nif (notebookContainer) {{\n    x.observe(notebookContainer, {childList: true});\n}}\n\n// Listen for the clearing of the current output cell\nvar outputEl = gd.closest('.output');\nif (outputEl) {{\n    x.observe(outputEl, {childList: true});\n}}\n\n                        })                };                });            </script>        </div>"
     },
     "metadata": {},
     "output_type": "display_data"
    }
   ],
   "source": [
    "fig = px.scatter_mapbox(food_data,\n",
    "                        lat='latitudes',\n",
    "                        lon='longitudes',\n",
    "                        color='price_labels',\n",
    "                        zoom=10,\n",
    "                        hover_name='full_address',\n",
    "                        hover_data=['image_url'],\n",
    "                        category_orders={'price_labels': ['Under $10', '$11-30', 'Over $31', 'Other']},\n",
    "                        color_discrete_map= {'Under $10': 'yellow', '$11-30': 'orange', 'Over $31': 'red', 'Other': 'grey'},\n",
    "                        size='rating',\n",
    "                        size_max=10)\n",
    "fig.update_layout(mapbox_style=\"dark\", mapbox_accesstoken=token)\n",
    "\n",
    "fig.update_layout(legend=dict(orientation='h', yanchor='bottom', y=1.02, xanchor=\"right\", x=1))\n",
    "fig.update_layout(legend_title_text='Price')"
   ],
   "metadata": {
    "collapsed": false
   }
  },
  {
   "cell_type": "code",
   "execution_count": 11,
   "outputs": [],
   "source": [
    "\n"
   ],
   "metadata": {
    "collapsed": false
   }
  },
  {
   "cell_type": "code",
   "execution_count": null,
   "outputs": [],
   "source": [],
   "metadata": {
    "collapsed": false
   }
  }
 ],
 "metadata": {
  "kernelspec": {
   "display_name": "Python 3",
   "language": "python",
   "name": "python3"
  },
  "language_info": {
   "codemirror_mode": {
    "name": "ipython",
    "version": 2
   },
   "file_extension": ".py",
   "mimetype": "text/x-python",
   "name": "python",
   "nbconvert_exporter": "python",
   "pygments_lexer": "ipython2",
   "version": "2.7.6"
  }
 },
 "nbformat": 4,
 "nbformat_minor": 0
}
